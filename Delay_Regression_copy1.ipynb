{
 "cells": [
  {
   "cell_type": "code",
   "execution_count": 1,
   "metadata": {},
   "outputs": [],
   "source": [
    "import pandas as pd\n",
    "import numpy as np\n",
    "import matplotlib.pyplot as plt\n",
    "import seaborn as sns\n",
    "import datetime as dt\n",
    "from datetime import datetime\n",
    "import scipy.stats as stats\n",
    "from scipy.stats import kstest"
   ]
  },
  {
   "cell_type": "code",
   "execution_count": 2,
   "metadata": {},
   "outputs": [],
   "source": [
    "from sklearn.ensemble import RandomForestRegressor\n",
    "import xgboost as xgb\n",
    "from sklearn.metrics import accuracy_score\n",
    "import sklearn.metrics as skm\n",
    "\n",
    "\n",
    "\n",
    "\n"
   ]
  },
  {
   "cell_type": "code",
   "execution_count": 3,
   "metadata": {},
   "outputs": [
    {
     "name": "stderr",
     "output_type": "stream",
     "text": [
      "/Users/phanisingaraju/anaconda3/lib/python3.7/site-packages/IPython/core/interactiveshell.py:3072: DtypeWarning: Columns (26) have mixed types.Specify dtype option on import or set low_memory=False.\n",
      "  interactivity=interactivity, compiler=compiler, result=result)\n"
     ]
    }
   ],
   "source": [
    "flights = pd.read_csv('flights_sample5pct.csv')"
   ]
  },
  {
   "cell_type": "code",
   "execution_count": 4,
   "metadata": {},
   "outputs": [],
   "source": [
    "# Flights columns to drop due to high Nans\n",
    "drop_cols = ['carrier_delay',\n",
    "'weather_delay',\n",
    "'nas_delay',\n",
    "'security_delay',\n",
    "'late_aircraft_delay',\n",
    "'first_dep_time',\n",
    "'total_add_gtime',\n",
    "'longest_add_gtime',\n",
    "'no_name','cancellation_code']\n",
    "flights = flights.drop(drop_cols, axis =1)"
   ]
  },
  {
   "cell_type": "code",
   "execution_count": 5,
   "metadata": {},
   "outputs": [],
   "source": [
    "date_split = flights['fl_date'].str.split('-')\n",
    "date_split[:3]\n",
    "flights['year'] = [x[0] for x in date_split]\n",
    "flights['month'] = [x[1] for x in date_split]\n",
    "flights['day'] = [x[2] for x in date_split]"
   ]
  },
  {
   "cell_type": "code",
   "execution_count": 6,
   "metadata": {},
   "outputs": [
    {
     "data": {
      "text/plain": [
       "Index(['Unnamed: 0', 'fl_date', 'mkt_unique_carrier', 'branded_code_share',\n",
       "       'mkt_carrier', 'mkt_carrier_fl_num', 'op_unique_carrier', 'tail_num',\n",
       "       'op_carrier_fl_num', 'origin_airport_id', 'origin', 'origin_city_name',\n",
       "       'dest_airport_id', 'dest', 'dest_city_name', 'crs_dep_time', 'dep_time',\n",
       "       'dep_delay', 'taxi_out', 'wheels_off', 'wheels_on', 'taxi_in',\n",
       "       'crs_arr_time', 'arr_time', 'arr_delay', 'cancelled', 'diverted', 'dup',\n",
       "       'crs_elapsed_time', 'actual_elapsed_time', 'air_time', 'flights',\n",
       "       'distance', 'year', 'month', 'day'],\n",
       "      dtype='object')"
      ]
     },
     "execution_count": 6,
     "metadata": {},
     "output_type": "execute_result"
    }
   ],
   "source": [
    "flights.columns"
   ]
  },
  {
   "cell_type": "code",
   "execution_count": 9,
   "metadata": {},
   "outputs": [
    {
     "data": {
      "text/plain": [
       "AA    207135\n",
       "DL    174009\n",
       "UA    154896\n",
       "WN    135581\n",
       "AS     42674\n",
       "B6     29983\n",
       "NK     19050\n",
       "F9     12767\n",
       "G4     10100\n",
       "HA      9281\n",
       "VX       852\n",
       "Name: mkt_carrier, dtype: int64"
      ]
     },
     "execution_count": 9,
     "metadata": {},
     "output_type": "execute_result"
    }
   ],
   "source": [
    "flights.mkt_carrier.value_counts()"
   ]
  },
  {
   "cell_type": "code",
   "execution_count": 10,
   "metadata": {},
   "outputs": [],
   "source": [
    "flights_feature = flights.filter(['fl_date','month','day','mkt_carrier','mkt_carrier_fl_num','origin','dest','crs_dep_time','distance','crs_arr_time', 'arr_delay'], axis=1)"
   ]
  },
  {
   "cell_type": "code",
   "execution_count": 11,
   "metadata": {},
   "outputs": [
    {
     "data": {
      "text/html": [
       "<div>\n",
       "<style scoped>\n",
       "    .dataframe tbody tr th:only-of-type {\n",
       "        vertical-align: middle;\n",
       "    }\n",
       "\n",
       "    .dataframe tbody tr th {\n",
       "        vertical-align: top;\n",
       "    }\n",
       "\n",
       "    .dataframe thead th {\n",
       "        text-align: right;\n",
       "    }\n",
       "</style>\n",
       "<table border=\"1\" class=\"dataframe\">\n",
       "  <thead>\n",
       "    <tr style=\"text-align: right;\">\n",
       "      <th></th>\n",
       "      <th>fl_date</th>\n",
       "      <th>month</th>\n",
       "      <th>day</th>\n",
       "      <th>mkt_carrier</th>\n",
       "      <th>mkt_carrier_fl_num</th>\n",
       "      <th>origin</th>\n",
       "      <th>dest</th>\n",
       "      <th>crs_dep_time</th>\n",
       "      <th>distance</th>\n",
       "      <th>crs_arr_time</th>\n",
       "      <th>arr_delay</th>\n",
       "    </tr>\n",
       "  </thead>\n",
       "  <tbody>\n",
       "    <tr>\n",
       "      <th>0</th>\n",
       "      <td>2018-09-20</td>\n",
       "      <td>09</td>\n",
       "      <td>20</td>\n",
       "      <td>DL</td>\n",
       "      <td>7362</td>\n",
       "      <td>MQT</td>\n",
       "      <td>MSP</td>\n",
       "      <td>731</td>\n",
       "      <td>300</td>\n",
       "      <td>749</td>\n",
       "      <td>-17.0</td>\n",
       "    </tr>\n",
       "    <tr>\n",
       "      <th>1</th>\n",
       "      <td>2018-09-20</td>\n",
       "      <td>09</td>\n",
       "      <td>20</td>\n",
       "      <td>DL</td>\n",
       "      <td>7369</td>\n",
       "      <td>APN</td>\n",
       "      <td>PLN</td>\n",
       "      <td>528</td>\n",
       "      <td>69</td>\n",
       "      <td>613</td>\n",
       "      <td>-16.0</td>\n",
       "    </tr>\n",
       "    <tr>\n",
       "      <th>2</th>\n",
       "      <td>2018-09-20</td>\n",
       "      <td>09</td>\n",
       "      <td>20</td>\n",
       "      <td>DL</td>\n",
       "      <td>7383</td>\n",
       "      <td>CPR</td>\n",
       "      <td>SLC</td>\n",
       "      <td>1145</td>\n",
       "      <td>320</td>\n",
       "      <td>1309</td>\n",
       "      <td>-13.0</td>\n",
       "    </tr>\n",
       "    <tr>\n",
       "      <th>3</th>\n",
       "      <td>2018-09-20</td>\n",
       "      <td>09</td>\n",
       "      <td>20</td>\n",
       "      <td>DL</td>\n",
       "      <td>7406</td>\n",
       "      <td>MQT</td>\n",
       "      <td>DTW</td>\n",
       "      <td>1510</td>\n",
       "      <td>349</td>\n",
       "      <td>1635</td>\n",
       "      <td>-18.0</td>\n",
       "    </tr>\n",
       "    <tr>\n",
       "      <th>4</th>\n",
       "      <td>2018-09-20</td>\n",
       "      <td>09</td>\n",
       "      <td>20</td>\n",
       "      <td>DL</td>\n",
       "      <td>7408</td>\n",
       "      <td>PLN</td>\n",
       "      <td>APN</td>\n",
       "      <td>2150</td>\n",
       "      <td>69</td>\n",
       "      <td>2229</td>\n",
       "      <td>73.0</td>\n",
       "    </tr>\n",
       "  </tbody>\n",
       "</table>\n",
       "</div>"
      ],
      "text/plain": [
       "      fl_date month day mkt_carrier  mkt_carrier_fl_num origin dest  \\\n",
       "0  2018-09-20    09  20          DL                7362    MQT  MSP   \n",
       "1  2018-09-20    09  20          DL                7369    APN  PLN   \n",
       "2  2018-09-20    09  20          DL                7383    CPR  SLC   \n",
       "3  2018-09-20    09  20          DL                7406    MQT  DTW   \n",
       "4  2018-09-20    09  20          DL                7408    PLN  APN   \n",
       "\n",
       "   crs_dep_time  distance  crs_arr_time  arr_delay  \n",
       "0           731       300           749      -17.0  \n",
       "1           528        69           613      -16.0  \n",
       "2          1145       320          1309      -13.0  \n",
       "3          1510       349          1635      -18.0  \n",
       "4          2150        69          2229       73.0  "
      ]
     },
     "execution_count": 11,
     "metadata": {},
     "output_type": "execute_result"
    }
   ],
   "source": [
    "flights_feature.head()"
   ]
  },
  {
   "cell_type": "code",
   "execution_count": 13,
   "metadata": {},
   "outputs": [
    {
     "data": {
      "text/plain": [
       "fl_date                   0\n",
       "month                     0\n",
       "day                       0\n",
       "mkt_carrier               0\n",
       "mkt_carrier_fl_num        0\n",
       "origin                    0\n",
       "dest                      0\n",
       "crs_dep_time              0\n",
       "distance                  0\n",
       "crs_arr_time              0\n",
       "arr_delay             15508\n",
       "dtype: int64"
      ]
     },
     "execution_count": 13,
     "metadata": {},
     "output_type": "execute_result"
    }
   ],
   "source": [
    "flights_feature.isna().sum()"
   ]
  },
  {
   "cell_type": "code",
   "execution_count": 14,
   "metadata": {},
   "outputs": [],
   "source": [
    "flights_feature['month']=flights_feature['month'].astype(str).astype(int)\n",
    "flights_feature['day']=flights_feature['day'].astype(str).astype(int)\n",
    "flights_feature['fl_date'] = pd.to_datetime(flights_feature['fl_date'])\n",
    "flights_feature['day_of_week'] = flights_feature['fl_date'].dt.dayofweek\n",
    "bins = [0, 300, 600, 900, 1200, 1500, 1800, 2100, 2400]\n",
    "flights_feature['binned_dep'] = np.searchsorted(bins, flights_feature['crs_dep_time'].values)\n",
    "flights_feature['binned_arr'] = np.searchsorted(bins, flights_feature['crs_arr_time'].values)\n",
    "bins = [0, 1100, 4100, 10000]\n",
    "flights_feature['binned_distance'] = np.searchsorted(bins, flights_feature['distance'].values)"
   ]
  },
  {
   "cell_type": "code",
   "execution_count": 15,
   "metadata": {
    "scrolled": true
   },
   "outputs": [
    {
     "data": {
      "text/plain": [
       "fl_date               datetime64[ns]\n",
       "month                          int64\n",
       "day                            int64\n",
       "mkt_carrier                   object\n",
       "mkt_carrier_fl_num             int64\n",
       "origin                        object\n",
       "dest                          object\n",
       "crs_dep_time                   int64\n",
       "distance                       int64\n",
       "crs_arr_time                   int64\n",
       "arr_delay                    float64\n",
       "day_of_week                    int64\n",
       "binned_dep                     int64\n",
       "binned_arr                     int64\n",
       "binned_distance                int64\n",
       "dtype: object"
      ]
     },
     "execution_count": 15,
     "metadata": {},
     "output_type": "execute_result"
    }
   ],
   "source": [
    "flights_feature.dtypes"
   ]
  },
  {
   "cell_type": "code",
   "execution_count": 16,
   "metadata": {},
   "outputs": [],
   "source": [
    "from sklearn.preprocessing import LabelEncoder\n",
    "flights_feature['carrier_encoded']=LabelEncoder().fit_transform(flights_feature.mkt_carrier )\n",
    "flights_feature['origin_encoded']=LabelEncoder().fit_transform(flights_feature.origin)\n",
    "flights_feature['dest_encoded']=LabelEncoder().fit_transform(flights_feature.dest)"
   ]
  },
  {
   "cell_type": "code",
   "execution_count": 17,
   "metadata": {},
   "outputs": [
    {
     "data": {
      "text/plain": [
       "Index(['fl_date', 'month', 'day', 'mkt_carrier', 'mkt_carrier_fl_num',\n",
       "       'origin', 'dest', 'crs_dep_time', 'distance', 'crs_arr_time',\n",
       "       'arr_delay', 'day_of_week', 'binned_dep', 'binned_arr',\n",
       "       'binned_distance', 'carrier_encoded', 'origin_encoded', 'dest_encoded'],\n",
       "      dtype='object')"
      ]
     },
     "execution_count": 17,
     "metadata": {},
     "output_type": "execute_result"
    }
   ],
   "source": [
    "flights_feature.columns"
   ]
  },
  {
   "cell_type": "code",
   "execution_count": 18,
   "metadata": {},
   "outputs": [
    {
     "data": {
      "image/png": "[encoded data removed]",
      "text/plain": [
       "<Figure size 1080x720 with 2 Axes>"
      ]
     },
     "metadata": {
      "needs_background": "light"
     },
     "output_type": "display_data"
    }
   ],
   "source": [
    "fig, ax = plt.subplots(figsize=(15,10)) \n",
    "heatmap = sns.heatmap(flights_feature.corr(), vmin=-1, vmax=1, annot=True, cmap='BrBG')\n",
    "heatmap.set_title('Correlation Heatmap', fontdict={'fontsize':18}, pad=16)\n",
    "plt.savefig('arrdelayfeatures.png', dpi=300, bbox_inches='tight')"
   ]
  },
  {
   "cell_type": "code",
   "execution_count": 19,
   "metadata": {},
   "outputs": [],
   "source": [
    "flights_feature.drop(columns=['fl_date','origin','dest','mkt_carrier','crs_dep_time','crs_arr_time','distance'],inplace=True)"
   ]
  },
  {
   "cell_type": "code",
   "execution_count": 20,
   "metadata": {},
   "outputs": [
    {
     "data": {
      "text/plain": [
       "5.578032068850695"
      ]
     },
     "execution_count": 20,
     "metadata": {},
     "output_type": "execute_result"
    }
   ],
   "source": [
    "flights_feature.arr_delay.mean()"
   ]
  },
  {
   "cell_type": "code",
   "execution_count": 21,
   "metadata": {},
   "outputs": [],
   "source": [
    "flights_feature.arr_delay.fillna(flights_feature.arr_delay.mean(),inplace=True)\n",
    "\n"
   ]
  },
  {
   "cell_type": "code",
   "execution_count": 22,
   "metadata": {},
   "outputs": [
    {
     "data": {
      "text/plain": [
       "month                 0\n",
       "day                   0\n",
       "mkt_carrier_fl_num    0\n",
       "arr_delay             0\n",
       "day_of_week           0\n",
       "binned_dep            0\n",
       "binned_arr            0\n",
       "binned_distance       0\n",
       "carrier_encoded       0\n",
       "origin_encoded        0\n",
       "dest_encoded          0\n",
       "dtype: int64"
      ]
     },
     "execution_count": 22,
     "metadata": {},
     "output_type": "execute_result"
    }
   ],
   "source": [
    "flights_feature.isna().sum()"
   ]
  },
  {
   "cell_type": "code",
   "execution_count": 23,
   "metadata": {},
   "outputs": [],
   "source": [
    "F=flights_feature[['mkt_carrier_fl_num','carrier_encoded','origin_encoded','dest_encoded','month','day','day_of_week','binned_dep','binned_arr','binned_distance']].copy()"
   ]
  },
  {
   "cell_type": "code",
   "execution_count": 24,
   "metadata": {},
   "outputs": [
    {
     "data": {
      "text/html": [
       "<div>\n",
       "<style scoped>\n",
       "    .dataframe tbody tr th:only-of-type {\n",
       "        vertical-align: middle;\n",
       "    }\n",
       "\n",
       "    .dataframe tbody tr th {\n",
       "        vertical-align: top;\n",
       "    }\n",
       "\n",
       "    .dataframe thead th {\n",
       "        text-align: right;\n",
       "    }\n",
       "</style>\n",
       "<table border=\"1\" class=\"dataframe\">\n",
       "  <thead>\n",
       "    <tr style=\"text-align: right;\">\n",
       "      <th></th>\n",
       "      <th>mkt_carrier_fl_num</th>\n",
       "      <th>carrier_encoded</th>\n",
       "      <th>origin_encoded</th>\n",
       "      <th>dest_encoded</th>\n",
       "      <th>month</th>\n",
       "      <th>day</th>\n",
       "      <th>day_of_week</th>\n",
       "      <th>binned_dep</th>\n",
       "      <th>binned_arr</th>\n",
       "      <th>binned_distance</th>\n",
       "    </tr>\n",
       "  </thead>\n",
       "  <tbody>\n",
       "    <tr>\n",
       "      <th>0</th>\n",
       "      <td>7362</td>\n",
       "      <td>3</td>\n",
       "      <td>239</td>\n",
       "      <td>243</td>\n",
       "      <td>9</td>\n",
       "      <td>20</td>\n",
       "      <td>3</td>\n",
       "      <td>3</td>\n",
       "      <td>3</td>\n",
       "      <td>1</td>\n",
       "    </tr>\n",
       "    <tr>\n",
       "      <th>1</th>\n",
       "      <td>7369</td>\n",
       "      <td>3</td>\n",
       "      <td>19</td>\n",
       "      <td>279</td>\n",
       "      <td>9</td>\n",
       "      <td>20</td>\n",
       "      <td>3</td>\n",
       "      <td>2</td>\n",
       "      <td>3</td>\n",
       "      <td>1</td>\n",
       "    </tr>\n",
       "    <tr>\n",
       "      <th>2</th>\n",
       "      <td>7383</td>\n",
       "      <td>3</td>\n",
       "      <td>82</td>\n",
       "      <td>332</td>\n",
       "      <td>9</td>\n",
       "      <td>20</td>\n",
       "      <td>3</td>\n",
       "      <td>4</td>\n",
       "      <td>5</td>\n",
       "      <td>1</td>\n",
       "    </tr>\n",
       "    <tr>\n",
       "      <th>3</th>\n",
       "      <td>7406</td>\n",
       "      <td>3</td>\n",
       "      <td>239</td>\n",
       "      <td>103</td>\n",
       "      <td>9</td>\n",
       "      <td>20</td>\n",
       "      <td>3</td>\n",
       "      <td>6</td>\n",
       "      <td>6</td>\n",
       "      <td>1</td>\n",
       "    </tr>\n",
       "    <tr>\n",
       "      <th>4</th>\n",
       "      <td>7408</td>\n",
       "      <td>3</td>\n",
       "      <td>279</td>\n",
       "      <td>19</td>\n",
       "      <td>9</td>\n",
       "      <td>20</td>\n",
       "      <td>3</td>\n",
       "      <td>8</td>\n",
       "      <td>8</td>\n",
       "      <td>1</td>\n",
       "    </tr>\n",
       "  </tbody>\n",
       "</table>\n",
       "</div>"
      ],
      "text/plain": [
       "   mkt_carrier_fl_num  carrier_encoded  origin_encoded  dest_encoded  month  \\\n",
       "0                7362                3             239           243      9   \n",
       "1                7369                3              19           279      9   \n",
       "2                7383                3              82           332      9   \n",
       "3                7406                3             239           103      9   \n",
       "4                7408                3             279            19      9   \n",
       "\n",
       "   day  day_of_week  binned_dep  binned_arr  binned_distance  \n",
       "0   20            3           3           3                1  \n",
       "1   20            3           2           3                1  \n",
       "2   20            3           4           5                1  \n",
       "3   20            3           6           6                1  \n",
       "4   20            3           8           8                1  "
      ]
     },
     "execution_count": 24,
     "metadata": {},
     "output_type": "execute_result"
    }
   ],
   "source": [
    "F.head()"
   ]
  },
  {
   "cell_type": "code",
   "execution_count": 25,
   "metadata": {},
   "outputs": [],
   "source": [
    "X = F.copy()  # Features\n",
    "y = flights_feature['arr_delay'] # Target variable"
   ]
  },
  {
   "cell_type": "code",
   "execution_count": 26,
   "metadata": {},
   "outputs": [
    {
     "data": {
      "text/plain": [
       "(796328, 10)"
      ]
     },
     "execution_count": 26,
     "metadata": {},
     "output_type": "execute_result"
    }
   ],
   "source": [
    "X.shape"
   ]
  },
  {
   "cell_type": "code",
   "execution_count": 27,
   "metadata": {},
   "outputs": [
    {
     "data": {
      "text/plain": [
       "(796328,)"
      ]
     },
     "execution_count": 27,
     "metadata": {},
     "output_type": "execute_result"
    }
   ],
   "source": [
    "y.shape"
   ]
  },
  {
   "cell_type": "code",
   "execution_count": 28,
   "metadata": {},
   "outputs": [
    {
     "data": {
      "text/plain": [
       "Index(['mkt_carrier_fl_num', 'carrier_encoded', 'origin_encoded',\n",
       "       'dest_encoded', 'month', 'day', 'day_of_week', 'binned_dep',\n",
       "       'binned_arr', 'binned_distance'],\n",
       "      dtype='object')"
      ]
     },
     "execution_count": 28,
     "metadata": {},
     "output_type": "execute_result"
    }
   ],
   "source": [
    "X.columns"
   ]
  },
  {
   "cell_type": "code",
   "execution_count": 29,
   "metadata": {},
   "outputs": [],
   "source": [
    "from sklearn.model_selection import train_test_split\n",
    "\n",
    "X_train, X_test, y_train, y_test = train_test_split(X, y, test_size=0.3)"
   ]
  },
  {
   "cell_type": "code",
   "execution_count": 30,
   "metadata": {},
   "outputs": [
    {
     "name": "stdout",
     "output_type": "stream",
     "text": [
      "(557429, 10)\n",
      "(238899, 10)\n"
     ]
    }
   ],
   "source": [
    "print(X_train.shape)\n",
    "print(X_test.shape)"
   ]
  },
  {
   "cell_type": "code",
   "execution_count": 118,
   "metadata": {},
   "outputs": [],
   "source": [
    "xgb1 = xgb.XGBRegressor(n_estimators=10000, max_depth=6)"
   ]
  },
  {
   "cell_type": "code",
   "execution_count": null,
   "metadata": {},
   "outputs": [],
   "source": [
    "xgb_tr=xgb1.fit(X_train,y_train)"
   ]
  },
  {
   "cell_type": "code",
   "execution_count": 104,
   "metadata": {},
   "outputs": [
    {
     "name": "stdout",
     "output_type": "stream",
     "text": [
      "Accuracy on training set for XGBoost(n=10000,depth=6): 0.804\n"
     ]
    }
   ],
   "source": [
    "print(\"Accuracy on training set for XGBoost(n=10000,depth=6): {:.3f}\".format(xgb_tr.score(X_train, y_train)))"
   ]
  },
  {
   "cell_type": "code",
   "execution_count": 105,
   "metadata": {},
   "outputs": [],
   "source": [
    "y_pred_xgb=xgb1.predict(X_test)"
   ]
  },
  {
   "cell_type": "code",
   "execution_count": 114,
   "metadata": {
    "scrolled": true
   },
   "outputs": [],
   "source": [
    "results = [\n",
    "('r2', skm.r2_score(y_test,y_pred_xgb) ),\n",
    "('explained_variance', skm.explained_variance_score(y_test,y_pred_xgb) ),\n",
    "('Max_Err', skm.max_error(y_test,y_pred_xgb) ),\n",
    "('Mean_Abs_Err', skm.mean_absolute_error(y_test,y_pred_xgb) ),\n",
    "('Mean_Sqr_Err', skm.mean_squared_error(y_test,y_pred_xgb) ),\n",
    "('Median_Abs_Err', skm.median_absolute_error(y_test,y_pred_xgb) ) ]\n"
   ]
  },
  {
   "cell_type": "code",
   "execution_count": 115,
   "metadata": {},
   "outputs": [
    {
     "name": "stdout",
     "output_type": "stream",
     "text": [
      "('r2', -0.21129537697553213)\n",
      "('explained_variance', -0.21062662711734115)\n",
      "('Max_Err', 1607.3971111774445)\n",
      "('Mean_Abs_Err', 28.213433788340343)\n",
      "('Mean_Sqr_Err', 2982.3939976305837)\n",
      "('Median_Abs_Err', 17.055166244506836)\n"
     ]
    }
   ],
   "source": [
    "for score in results:\n",
    "    print(score)"
   ]
  }
 ],
 "metadata": {
  "kernelspec": {
   "display_name": "Python 3",
   "language": "python",
   "name": "python3"
  },
  "language_info": {
   "codemirror_mode": {
    "name": "ipython",
    "version": 3
   },
   "file_extension": ".py",
   "mimetype": "text/x-python",
   "name": "python",
   "nbconvert_exporter": "python",
   "pygments_lexer": "ipython3",
   "version": "3.7.7"
  }
 },
 "nbformat": 4,
 "nbformat_minor": 4
}
