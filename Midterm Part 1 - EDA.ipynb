{
 "cells": [
  {
   "cell_type": "code",
   "execution_count": 70,
   "metadata": {
    "colab": {},
    "colab_type": "code",
    "id": "gbN4gkrCjzcq",
    "slideshow": {
     "slide_type": "skip"
    }
   },
   "outputs": [],
   "source": [
    "import pandas as pd\n",
    "import numpy as np\n",
    "import matplotlib.pyplot as plt\n",
    "import seaborn as sns\n",
    "import datetime as dt\n",
    "from datetime import datetime\n",
    "import scipy.stats as stats\n",
    "from scipy.stats import kstest\n",
    "from IPython.display import Image\n",
    "from IPython.core.display import HTML "
   ]
  },
  {
   "cell_type": "code",
   "execution_count": 2,
   "metadata": {
    "colab": {},
    "colab_type": "code",
    "id": "o41BJXek8vrM",
    "slideshow": {
     "slide_type": "skip"
    }
   },
   "outputs": [],
   "source": [
    "# import random\n",
    "# p = 0.05\n",
    "# flights_sample = pd.read_csv(\n",
    "#         '/content/drive/My Drive/Colab Notebooks/flights.csv',\n",
    "#          header=0, \n",
    "#          skiprows=lambda i: i>0 and random.random() > p)\n",
    "# flights_sample.to_csv('flights_sample5pct.csv')"
   ]
  },
  {
   "cell_type": "code",
   "execution_count": 3,
   "metadata": {
    "colab": {
     "base_uri": "https://localhost:8080/",
     "height": 72
    },
    "colab_type": "code",
    "executionInfo": {
     "elapsed": 10821,
     "status": "ok",
     "timestamp": 1598298181841,
     "user": {
      "displayName": "Jon Durand",
      "photoUrl": "",
      "userId": "11073466191630386305"
     },
     "user_tz": 300
    },
    "id": "sVFOcLNpPklB",
    "outputId": "9163d415-ec06-4b57-8194-8ab6f6b14cdf",
    "slideshow": {
     "slide_type": "skip"
    }
   },
   "outputs": [
    {
     "name": "stderr",
     "output_type": "stream",
     "text": [
      "/home/mdesk/.conda/envs/lhl/lib/python3.8/site-packages/IPython/core/interactiveshell.py:3071: DtypeWarning: Columns (26) have mixed types.Specify dtype option on import or set low_memory=False.\n",
      "  has_raised = await self.run_ast_nodes(code_ast.body, cell_name,\n"
     ]
    }
   ],
   "source": [
    "datapath = '/media/mdesk/HD Shared/LHL-coursework/Midterm/data/'\n",
    "flights = pd.read_csv(datapath + 'flights_pandas_sample5pct.csv')\n",
    "flights.drop(['Unnamed: 0'], axis=1,inplace=True)\n",
    "passengers = pd.read_csv(datapath +'passengers.csv')\n",
    "fuel = pd.read_csv(datapath +'fuel_comsumption.csv')"
   ]
  },
  {
   "cell_type": "code",
   "execution_count": 4,
   "metadata": {
    "colab": {},
    "colab_type": "code",
    "id": "L_bJpgjzls8J",
    "slideshow": {
     "slide_type": "skip"
    }
   },
   "outputs": [],
   "source": [
    "date_split = flights['fl_date'].str.split('-')\n",
    "date_split[:3]\n",
    "flights['year'] = [x[0] for x in date_split]\n",
    "flights['month'] = [x[1] for x in date_split]\n",
    "flights['day'] = [x[2] for x in date_split]\n",
    "\n"
   ]
  },
  {
   "cell_type": "markdown",
   "metadata": {
    "colab_type": "text",
    "id": "gl7l9RshPVFg",
    "slideshow": {
     "slide_type": "slide"
    }
   },
   "source": [
    "#### **Task 1**: Test the hypothesis that the delay is from Normal distribution. and that **mean** of the delay is 0. Be careful about the outliers."
   ]
  },
  {
   "cell_type": "code",
   "execution_count": 5,
   "metadata": {
    "colab": {},
    "colab_type": "code",
    "id": "jAXgbIN7Fkje",
    "slideshow": {
     "slide_type": "skip"
    }
   },
   "outputs": [],
   "source": [
    "# Take sample and remove outliers\n",
    "s_arr = flights.arr_delay#.sample(n=2000)\n",
    "s_dep = flights.dep_delay#.sample(n=2000)\n",
    "s1 = s_arr[s_arr.between(s_arr.quantile(.05), s_arr.quantile(.95))]\n",
    "s2 = s_dep[s_dep.between(s_dep.quantile(.05), s_dep.quantile(.95))]\n",
    "\n",
    "# Based on 3st.dev's\n",
    "s3 = s_arr[~((s_arr -s_arr.mean()).abs() > 3*s_arr.std())]\n",
    "s4 = s_dep[~((s_dep -s_dep.mean()).abs() > 3*s_dep.std())]\n",
    "\n",
    "# add IQR here instead of just 5% and 95% quartile\n"
   ]
  },
  {
   "cell_type": "code",
   "execution_count": 6,
   "metadata": {
    "colab": {
     "base_uri": "https://localhost:8080/",
     "height": 34
    },
    "colab_type": "code",
    "executionInfo": {
     "elapsed": 815,
     "status": "ok",
     "timestamp": 1598289496788,
     "user": {
      "displayName": "Jon Durand",
      "photoUrl": "",
      "userId": "11073466191630386305"
     },
     "user_tz": 300
    },
    "id": "tqppF5BXHZS4",
    "outputId": "06cd2df5-ec11-473f-8509-dc20dec86800",
    "slideshow": {
     "slide_type": "skip"
    }
   },
   "outputs": [
    {
     "data": {
      "text/plain": [
       "False"
      ]
     },
     "execution_count": 6,
     "metadata": {},
     "output_type": "execute_result"
    }
   ],
   "source": [
    "## Check for nulls\n",
    "s1.isnull().any()"
   ]
  },
  {
   "cell_type": "code",
   "execution_count": 7,
   "metadata": {
    "colab": {
     "base_uri": "https://localhost:8080/",
     "height": 297
    },
    "colab_type": "code",
    "executionInfo": {
     "elapsed": 1152,
     "status": "ok",
     "timestamp": 1598289498717,
     "user": {
      "displayName": "Jon Durand",
      "photoUrl": "",
      "userId": "11073466191630386305"
     },
     "user_tz": 300
    },
    "id": "YaGzaBZ5FksD",
    "outputId": "d5bebb74-63bb-4932-f762-faa9e88a8e15",
    "slideshow": {
     "slide_type": "slide"
    }
   },
   "outputs": [
    {
     "data": {
      "text/plain": [
       "<matplotlib.legend.Legend at 0x7f21aba42fd0>"
      ]
     },
     "execution_count": 7,
     "metadata": {},
     "output_type": "execute_result"
    },
    {
     "data": {
      "image/png": "[encoded data removed]",
      "text/plain": [
       "<Figure size 432x288 with 1 Axes>"
      ]
     },
     "metadata": {
      "needs_background": "light"
     },
     "output_type": "display_data"
    }
   ],
   "source": [
    "# Check distribution\n",
    "g = sns.distplot(s1, kde=True, rug=False,label='arr_delay')\n",
    "g2 = sns.distplot(s2, kde=True, rug=False, label='dep_delay')\n",
    "plt.legend()"
   ]
  },
  {
   "cell_type": "code",
   "execution_count": 8,
   "metadata": {
    "colab": {
     "base_uri": "https://localhost:8080/",
     "height": 297
    },
    "colab_type": "code",
    "executionInfo": {
     "elapsed": 1119,
     "status": "ok",
     "timestamp": 1598283910096,
     "user": {
      "displayName": "Jon Durand",
      "photoUrl": "",
      "userId": "11073466191630386305"
     },
     "user_tz": 300
    },
    "id": "IV3dhmZDJLxC",
    "outputId": "3fc0f4eb-729f-413f-dc70-8d1c4cfbbada",
    "slideshow": {
     "slide_type": "skip"
    }
   },
   "outputs": [
    {
     "data": {
      "text/plain": [
       "<matplotlib.legend.Legend at 0x7f21905cfcd0>"
      ]
     },
     "execution_count": 8,
     "metadata": {},
     "output_type": "execute_result"
    },
    {
     "data": {
      "image/png": "[encoded data removed]",
      "text/plain": [
       "<Figure size 432x288 with 1 Axes>"
      ]
     },
     "metadata": {
      "needs_background": "light"
     },
     "output_type": "display_data"
    }
   ],
   "source": [
    "# Check distribution\n",
    "g = sns.distplot(s3, kde=True, rug=False,label='arr_delay')\n",
    "g2 = sns.distplot(s4, kde=True, rug=False, label='dep_delay')\n",
    "plt.legend()"
   ]
  },
  {
   "cell_type": "code",
   "execution_count": 9,
   "metadata": {
    "colab": {
     "base_uri": "https://localhost:8080/",
     "height": 295
    },
    "colab_type": "code",
    "executionInfo": {
     "elapsed": 722,
     "status": "ok",
     "timestamp": 1598283967628,
     "user": {
      "displayName": "Jon Durand",
      "photoUrl": "",
      "userId": "11073466191630386305"
     },
     "user_tz": 300
    },
    "id": "IwRCOHr_O-IA",
    "outputId": "003cd82e-96ae-4854-c861-b244402205ac",
    "slideshow": {
     "slide_type": "slide"
    }
   },
   "outputs": [
    {
     "data": {
      "image/png": "[encoded data removed]",
      "text/plain": [
       "<Figure size 432x288 with 1 Axes>"
      ]
     },
     "metadata": {
      "needs_background": "light"
     },
     "output_type": "display_data"
    }
   ],
   "source": [
    "stats.probplot(s1, dist=\"norm\", plot=plt)\n",
    "plt.show()"
   ]
  },
  {
   "cell_type": "code",
   "execution_count": 10,
   "metadata": {
    "colab": {
     "base_uri": "https://localhost:8080/",
     "height": 295
    },
    "colab_type": "code",
    "executionInfo": {
     "elapsed": 668,
     "status": "ok",
     "timestamp": 1598283983761,
     "user": {
      "displayName": "Jon Durand",
      "photoUrl": "",
      "userId": "11073466191630386305"
     },
     "user_tz": 300
    },
    "id": "cKENUoB2Jhf7",
    "outputId": "933cc38d-d293-4cf5-d4a3-dbf293057a01",
    "slideshow": {
     "slide_type": "skip"
    }
   },
   "outputs": [
    {
     "data": {
      "image/png": "[encoded data removed]",
      "text/plain": [
       "<Figure size 432x288 with 1 Axes>"
      ]
     },
     "metadata": {
      "needs_background": "light"
     },
     "output_type": "display_data"
    }
   ],
   "source": [
    "stats.probplot(s2, dist=\"norm\", plot=plt)\n",
    "plt.show()"
   ]
  },
  {
   "cell_type": "code",
   "execution_count": 67,
   "metadata": {
    "colab": {
     "base_uri": "https://localhost:8080/",
     "height": 34
    },
    "colab_type": "code",
    "executionInfo": {
     "elapsed": 818,
     "status": "ok",
     "timestamp": 1598284050454,
     "user": {
      "displayName": "Jon Durand",
      "photoUrl": "",
      "userId": "11073466191630386305"
     },
     "user_tz": 300
    },
    "id": "MK76VWXaWxQU",
    "outputId": "75057222-c40e-407f-a840-4bf64934d3a2",
    "slideshow": {
     "slide_type": "slide"
    }
   },
   "outputs": [
    {
     "name": "stdout",
     "output_type": "stream",
     "text": [
      "Kolmogorov–Smirnov test tests equality of distributions\n",
      "0.598463540057871 0.0\n",
      "\n",
      "\n",
      "Shapiro Wilkes test for normality\n",
      "ShapiroResult(statistic=0.8584035038948059, pvalue=0.0)\n",
      "\n",
      "\n",
      "P value is much smaller than alpha, so we reject the null hypothesis that this came from a normal distribution\n"
     ]
    }
   ],
   "source": [
    "ks_statistic, p_value = kstest(s1, 'norm',)\n",
    "print(\"Kolmogorov–Smirnov test tests equality of distributions\")\n",
    "print(ks_statistic, p_value)\n",
    "print('\\n')\n",
    "# Shapiro Test\n",
    "print(\"Shapiro Wilkes test for normality\")\n",
    "print(stats.shapiro(s1))\n",
    "print('\\n')\n",
    "print('''P value is much smaller than alpha, so we reject the null hypothesis that this came from a normal distribution''')"
   ]
  },
  {
   "cell_type": "markdown",
   "metadata": {
    "colab_type": "text",
    "id": "MqWrq8YoRBzV",
    "slideshow": {
     "slide_type": "slide"
    }
   },
   "source": [
    "#### **Task 2**: Is average/median monthly delay different during the year? If yes, which are months with the biggest delays and what could be the reason?"
   ]
  },
  {
   "cell_type": "code",
   "execution_count": 12,
   "metadata": {
    "colab": {},
    "colab_type": "code",
    "id": "c6Sd22hLRTPG",
    "slideshow": {
     "slide_type": "skip"
    }
   },
   "outputs": [],
   "source": [
    "\n",
    "\n",
    "flights_sample_delay = flights.filter(['year','month','dep_delay','arr_delay'], axis=1)"
   ]
  },
  {
   "cell_type": "code",
   "execution_count": 13,
   "metadata": {
    "colab": {
     "base_uri": "https://localhost:8080/",
     "height": 564
    },
    "colab_type": "code",
    "executionInfo": {
     "elapsed": 1286,
     "status": "ok",
     "timestamp": 1598298197667,
     "user": {
      "displayName": "Jon Durand",
      "photoUrl": "",
      "userId": "11073466191630386305"
     },
     "user_tz": 300
    },
    "id": "zBKBD1uWRTTq",
    "outputId": "aa90e7a9-26c5-4f48-864d-ceefd0c87224",
    "slideshow": {
     "slide_type": "slide"
    }
   },
   "outputs": [
    {
     "data": {
      "text/plain": [
       "<AxesSubplot:xlabel='month'>"
      ]
     },
     "execution_count": 13,
     "metadata": {},
     "output_type": "execute_result"
    },
    {
     "data": {
      "image/png": "[encoded data removed]",
      "text/plain": [
       "<Figure size 432x288 with 1 Axes>"
      ]
     },
     "metadata": {
      "needs_background": "light"
     },
     "output_type": "display_data"
    },
    {
     "data": {
      "image/png": "[encoded data removed]",
      "text/plain": [
       "<Figure size 432x288 with 1 Axes>"
      ]
     },
     "metadata": {
      "needs_background": "light"
     },
     "output_type": "display_data"
    }
   ],
   "source": [
    "flights_sample_delay.groupby(['year','month'])['dep_delay'].mean().unstack('year').plot.bar()\n",
    "flights_sample_delay.groupby(['year','month'])['arr_delay'].mean().unstack('year').plot.bar()"
   ]
  },
  {
   "cell_type": "markdown",
   "metadata": {
    "colab_type": "text",
    "id": "9e-X0M2IvEd1",
    "slideshow": {
     "slide_type": "slide"
    }
   },
   "source": [
    "Yes, the monthly delays are different during the year. June, July , August are the months with more delays. In 2019, there is a significant delay in the month of February as well. This might be due to weather."
   ]
  },
  {
   "cell_type": "markdown",
   "metadata": {
    "colab_type": "text",
    "id": "UrQi6LE3R_RW",
    "slideshow": {
     "slide_type": "slide"
    }
   },
   "source": [
    "#### **Task 3**: Does the weather affect the delay? \n",
    "Use the API to pull the weather information for flights. There is no need to get weather for ALL flights. We can choose the right representative sample. Let's focus on four weather types:\n",
    "- sunny\n",
    "- cloudy\n",
    "- rainy\n",
    "- snow\n",
    "\n",
    "Test the hypothesis that these 4 delays are from the same distribution. If they are not, which ones are significantly different?"
   ]
  },
  {
   "cell_type": "code",
   "execution_count": 14,
   "metadata": {
    "colab": {},
    "colab_type": "code",
    "id": "6IrukT8wRTbB",
    "slideshow": {
     "slide_type": "skip"
    }
   },
   "outputs": [],
   "source": [
    "\n",
    "# # https://www.visualcrossing.com/resources/documentation/weather-api/weather-api-documentation/#history\n",
    "\n",
    "# weather_df = flights.sample(n=200)\n",
    "# weather_df['weather_condition'] = ''\n",
    "\n",
    "# import json\n",
    "# import requests as re\n",
    "# #jkey='T6QNR5VZUBT35SN06K0V61EFU'\n",
    "# jkey='RX0UYGETLXC6UY12NGE4B1J4Z'\n",
    "# chronoUnit='days'\n",
    "# for i in list(range(99)):\n",
    "#     location= weather_df.iloc[i].dest_city_name\n",
    "#     flightdate = weather_df.iloc[i].fl_date\n",
    "#     startDateTime= flightdate + 'T00:00:00'\n",
    "#     endDateTime= flightdate + 'T23:59:00'\n",
    "\n",
    "\n",
    "#     # time format: 2019-06-13T00:00:00\n",
    "#     # 2018-05-29\n",
    "#     url = f'https://weather.visualcrossing.com/VisualCrossingWebServices/rest/services/weatherdata/history?&aggregateHours=24&startDateTime={startDateTime}&endDateTime={endDateTime}&unitGroup=us&contentType=json&location={location}&key={jkey}'\n",
    "#     res = re.get(url)\n",
    "#     print(res.text)\n",
    "#     jdata = res.json()\n",
    "#     weather_df['weather_condition'].iloc[i] = jdata['locations'][list(jdata['locations'])[0]]['values'][0]['conditions']\n",
    "\n",
    "# weather_df.to_csv('/content/drive/My Drive/Colab Notebooks/weather_df.csv', mode='a', header=False)\n"
   ]
  },
  {
   "cell_type": "code",
   "execution_count": 15,
   "metadata": {
    "colab": {
     "base_uri": "https://localhost:8080/",
     "height": 34
    },
    "colab_type": "code",
    "executionInfo": {
     "elapsed": 750,
     "status": "ok",
     "timestamp": 1598288050977,
     "user": {
      "displayName": "Jon Durand",
      "photoUrl": "",
      "userId": "11073466191630386305"
     },
     "user_tz": 300
    },
    "id": "ueO1njItqtO5",
    "outputId": "a4d172f6-a907-4f61-bca0-08dd342aaaf2",
    "slideshow": {
     "slide_type": "skip"
    }
   },
   "outputs": [
    {
     "data": {
      "text/plain": [
       "False"
      ]
     },
     "execution_count": 15,
     "metadata": {},
     "output_type": "execute_result"
    }
   ],
   "source": [
    "weath = pd.read_csv(datapath +'weather_df.csv')\n",
    "weath.weather_condition.dropna(inplace=True)\n",
    "weath.weather_condition.isnull().any()"
   ]
  },
  {
   "cell_type": "code",
   "execution_count": 16,
   "metadata": {
    "colab": {
     "base_uri": "https://localhost:8080/",
     "height": 191
    },
    "colab_type": "code",
    "executionInfo": {
     "elapsed": 497,
     "status": "ok",
     "timestamp": 1598284664585,
     "user": {
      "displayName": "Jon Durand",
      "photoUrl": "",
      "userId": "11073466191630386305"
     },
     "user_tz": 300
    },
    "id": "ObhXgzROq5GX",
    "outputId": "d7ab6e71-2025-4913-b163-bd7a5db64a52",
    "slideshow": {
     "slide_type": "skip"
    }
   },
   "outputs": [
    {
     "data": {
      "text/plain": [
       "Partially cloudy          67\n",
       "Clear                     58\n",
       "Rain, Partially cloudy    37\n",
       "Rain, Overcast            10\n",
       "Rain, Clear                9\n",
       "Overcast                   8\n",
       "Snow, Overcast             5\n",
       "Snow, Clear                2\n",
       "Snow, Partially cloudy     1\n",
       "Name: weather_condition, dtype: int64"
      ]
     },
     "execution_count": 16,
     "metadata": {},
     "output_type": "execute_result"
    }
   ],
   "source": [
    "weath.weather_condition.value_counts()"
   ]
  },
  {
   "cell_type": "code",
   "execution_count": 17,
   "metadata": {
    "colab": {
     "base_uri": "https://localhost:8080/",
     "height": 104
    },
    "colab_type": "code",
    "executionInfo": {
     "elapsed": 736,
     "status": "ok",
     "timestamp": 1598284704302,
     "user": {
      "displayName": "Jon Durand",
      "photoUrl": "",
      "userId": "11073466191630386305"
     },
     "user_tz": 300
    },
    "id": "jdPq8xILrLIJ",
    "outputId": "94aaef77-fb51-4273-9a79-8f6b5f7c0d5d",
    "slideshow": {
     "slide_type": "skip"
    }
   },
   "outputs": [
    {
     "data": {
      "text/plain": [
       "cloudy    75\n",
       "sunny     58\n",
       "rainy     56\n",
       "snow       8\n",
       "Name: weather_condition, dtype: int64"
      ]
     },
     "execution_count": 17,
     "metadata": {},
     "output_type": "execute_result"
    }
   ],
   "source": [
    "weather_dict= {\n",
    "    'Partially cloudy':'cloudy',\n",
    "    'Rain, Partially cloudy':'rainy',\n",
    "    'Rain, Overcast':'rainy',\n",
    "    'Rain, Clear':'rainy',\n",
    "    'Clear':'sunny',\n",
    "    'Snow, Overcast':'snow',\n",
    "    'Overcast':'cloudy',\n",
    "    'Snow, Clear':'snow',\n",
    "    'Snow, Partially cloudy':'snow'\n",
    "}\n",
    "weath.weather_condition = weath.weather_condition.map(weather_dict)\n",
    "weath.weather_condition.value_counts()"
   ]
  },
  {
   "cell_type": "code",
   "execution_count": 18,
   "metadata": {
    "colab": {
     "base_uri": "https://localhost:8080/",
     "height": 297
    },
    "colab_type": "code",
    "executionInfo": {
     "elapsed": 804,
     "status": "ok",
     "timestamp": 1598284787092,
     "user": {
      "displayName": "Jon Durand",
      "photoUrl": "",
      "userId": "11073466191630386305"
     },
     "user_tz": 300
    },
    "id": "1Y9Cg19KwCDA",
    "outputId": "62afab5f-3bc4-46d9-fa5f-de7955ae4c96",
    "slideshow": {
     "slide_type": "slide"
    }
   },
   "outputs": [
    {
     "data": {
      "text/plain": [
       "<AxesSubplot:xlabel='weather_condition', ylabel='dep_delay'>"
      ]
     },
     "execution_count": 18,
     "metadata": {},
     "output_type": "execute_result"
    },
    {
     "data": {
      "image/png": "[encoded data removed]",
      "text/plain": [
       "<Figure size 432x288 with 1 Axes>"
      ]
     },
     "metadata": {
      "needs_background": "light"
     },
     "output_type": "display_data"
    }
   ],
   "source": [
    "group = weath.groupby('weather_condition',as_index=False).mean()\n",
    "sns.barplot(x = 'weather_condition', y = 'dep_delay', data = group )"
   ]
  },
  {
   "cell_type": "markdown",
   "metadata": {
    "colab_type": "text",
    "id": "w7pKeu5WwCkn",
    "slideshow": {
     "slide_type": "slide"
    }
   },
   "source": [
    "# Checking Distribution of weather"
   ]
  },
  {
   "cell_type": "code",
   "execution_count": 19,
   "metadata": {
    "colab": {
     "base_uri": "https://localhost:8080/",
     "height": 297
    },
    "colab_type": "code",
    "executionInfo": {
     "elapsed": 932,
     "status": "ok",
     "timestamp": 1598193278499,
     "user": {
      "displayName": "Jon Durand",
      "photoUrl": "",
      "userId": "11073466191630386305"
     },
     "user_tz": 300
    },
    "id": "D4DPKPfzRTYW",
    "outputId": "e61c5713-da09-41dc-cd8a-dfc5fcb2b9bc",
    "slideshow": {
     "slide_type": "slide"
    }
   },
   "outputs": [
    {
     "data": {
      "text/plain": [
       "<matplotlib.legend.Legend at 0x7f21900c3a00>"
      ]
     },
     "execution_count": 19,
     "metadata": {},
     "output_type": "execute_result"
    },
    {
     "data": {
      "image/png": "[encoded data removed]",
      "text/plain": [
       "<Figure size 432x288 with 1 Axes>"
      ]
     },
     "metadata": {
      "needs_background": "light"
     },
     "output_type": "display_data"
    }
   ],
   "source": [
    "cond = ['snow','rainy','cloudy','sunny']\n",
    "for x in cond:\n",
    "  sns.distplot( weath[weath.weather_condition == x].dep_delay , label=x)\n",
    "plt.xlim(None,200)\n",
    "plt.legend()\n"
   ]
  },
  {
   "cell_type": "code",
   "execution_count": 20,
   "metadata": {
    "colab": {},
    "colab_type": "code",
    "id": "8rn8aGKZSm3J",
    "slideshow": {
     "slide_type": "skip"
    }
   },
   "outputs": [],
   "source": [
    "rainy = weath[weath.weather_condition =='rainy'].dep_delay\n",
    "sunny = weath[weath.weather_condition =='sunny'].dep_delay\n",
    "snow = weath[weath.weather_condition =='snow'].dep_delay\n",
    "cloudy = weath[weath.weather_condition =='cloudy'].dep_delay"
   ]
  },
  {
   "cell_type": "code",
   "execution_count": 21,
   "metadata": {
    "colab": {
     "base_uri": "https://localhost:8080/",
     "height": 69
    },
    "colab_type": "code",
    "executionInfo": {
     "elapsed": 757,
     "status": "ok",
     "timestamp": 1598284985669,
     "user": {
      "displayName": "Jon Durand",
      "photoUrl": "",
      "userId": "11073466191630386305"
     },
     "user_tz": 300
    },
    "id": "pRzpbA1cSm-z",
    "outputId": "f37ff2cf-920f-4510-fee4-10229e87bd20",
    "slideshow": {
     "slide_type": "slide"
    }
   },
   "outputs": [
    {
     "name": "stdout",
     "output_type": "stream",
     "text": [
      "KstestResult(statistic=0.14963054187192118, pvalue=0.4840417101134967)\n",
      "KstestResult(statistic=0.21428571428571427, pvalue=0.8649316149997042)\n",
      "KstestResult(statistic=0.12547619047619046, pvalue=0.6382015607507476)\n"
     ]
    }
   ],
   "source": [
    "from scipy import stats\n",
    "print(stats.ks_2samp(rainy,sunny))\n",
    "print(stats.ks_2samp(rainy,snow))\n",
    "print(stats.ks_2samp(rainy,cloudy))"
   ]
  },
  {
   "cell_type": "markdown",
   "metadata": {
    "colab_type": "text",
    "id": "SAmV1YJgUBes",
    "slideshow": {
     "slide_type": "slide"
    }
   },
   "source": [
    "#### **Task 4**: How taxi times changing during the day? Does higher traffic lead to bigger taxi times?"
   ]
  },
  {
   "cell_type": "code",
   "execution_count": 22,
   "metadata": {
    "colab": {},
    "colab_type": "code",
    "id": "hAAKcJmGUAya",
    "slideshow": {
     "slide_type": "skip"
    }
   },
   "outputs": [],
   "source": [
    "flights_sample_taxi=flights.filter(['year','month','day','crs_dep_time','wheels_off','taxi_out','crs_arr_time','wheels_on','taxi_in'], axis=1)"
   ]
  },
  {
   "cell_type": "code",
   "execution_count": 23,
   "metadata": {
    "colab": {},
    "colab_type": "code",
    "id": "BaVvN5HcUA1w",
    "slideshow": {
     "slide_type": "skip"
    }
   },
   "outputs": [],
   "source": [
    "bins = [0, 300, 600, 900, 1200, 1500, 1800, 2100, 2400]\n",
    "flights_sample_taxi['binned_dep'] = np.searchsorted(bins, flights_sample_taxi['crs_dep_time'].values)\n",
    "flights_sample_taxi['binned_arr'] = np.searchsorted(bins, flights_sample_taxi['crs_arr_time'].values)"
   ]
  },
  {
   "cell_type": "code",
   "execution_count": 24,
   "metadata": {
    "colab": {},
    "colab_type": "code",
    "id": "rwHa3HoZUA96",
    "slideshow": {
     "slide_type": "skip"
    }
   },
   "outputs": [],
   "source": [
    "  flights_sample_taxi= flights_sample_taxi.dropna(how='all', subset=['taxi_out', 'taxi_in'])\n",
    "\n"
   ]
  },
  {
   "cell_type": "code",
   "execution_count": 25,
   "metadata": {
    "colab": {
     "base_uri": "https://localhost:8080/",
     "height": 295
    },
    "colab_type": "code",
    "executionInfo": {
     "elapsed": 627,
     "status": "ok",
     "timestamp": 1598295747991,
     "user": {
      "displayName": "Jon Durand",
      "photoUrl": "",
      "userId": "11073466191630386305"
     },
     "user_tz": 300
    },
    "id": "0R4FCzh6yD58",
    "outputId": "4f9de528-336d-4312-9417-3d1b6addaf96",
    "slideshow": {
     "slide_type": "slide"
    }
   },
   "outputs": [
    {
     "data": {
      "text/plain": [
       "<AxesSubplot:title={'center':'Departure Flight traffic'}>"
      ]
     },
     "execution_count": 25,
     "metadata": {},
     "output_type": "execute_result"
    },
    {
     "data": {
      "image/png": "[encoded data removed]",
      "text/plain": [
       "<Figure size 432x288 with 1 Axes>"
      ]
     },
     "metadata": {
      "needs_background": "light"
     },
     "output_type": "display_data"
    }
   ],
   "source": [
    "flights_sample_taxi['binned_dep'].value_counts().plot.bar(title='Departure Flight traffic')\n"
   ]
  },
  {
   "cell_type": "code",
   "execution_count": 26,
   "metadata": {
    "colab": {
     "base_uri": "https://localhost:8080/",
     "height": 295
    },
    "colab_type": "code",
    "executionInfo": {
     "elapsed": 608,
     "status": "ok",
     "timestamp": 1598295774032,
     "user": {
      "displayName": "Jon Durand",
      "photoUrl": "",
      "userId": "11073466191630386305"
     },
     "user_tz": 300
    },
    "id": "FECFTE1gyesR",
    "outputId": "6753c776-e9ed-42eb-8642-400f17a68f77",
    "slideshow": {
     "slide_type": "slide"
    }
   },
   "outputs": [
    {
     "data": {
      "text/plain": [
       "<AxesSubplot:title={'center':'Arrival Flight traffic'}>"
      ]
     },
     "execution_count": 26,
     "metadata": {},
     "output_type": "execute_result"
    },
    {
     "data": {
      "image/png": "[encoded data removed]",
      "text/plain": [
       "<Figure size 432x288 with 1 Axes>"
      ]
     },
     "metadata": {
      "needs_background": "light"
     },
     "output_type": "display_data"
    }
   ],
   "source": [
    "flights_sample_taxi['binned_arr'].value_counts().plot.bar(title='Arrival Flight traffic' )"
   ]
  },
  {
   "cell_type": "markdown",
   "metadata": {
    "colab_type": "text",
    "id": "WWd1xOAtywXh",
    "slideshow": {
     "slide_type": "slide"
    }
   },
   "source": [
    "Departure traffic is more in the bin 3 which is between 6am to 9am and Arrival traffic is almost same in the bins 4,5,6,7 which is between 9am to 9pm."
   ]
  },
  {
   "cell_type": "code",
   "execution_count": 27,
   "metadata": {
    "colab": {
     "base_uri": "https://localhost:8080/",
     "height": 310
    },
    "colab_type": "code",
    "executionInfo": {
     "elapsed": 398,
     "status": "ok",
     "timestamp": 1598211059921,
     "user": {
      "displayName": "Phani Madhavi Singaraju",
      "photoUrl": "",
      "userId": "15920938042306922285"
     },
     "user_tz": 240
    },
    "id": "ibcSDsV4zIpr",
    "outputId": "be00eda7-3940-4aa1-abde-b32147597d7b",
    "slideshow": {
     "slide_type": "slide"
    }
   },
   "outputs": [
    {
     "data": {
      "text/plain": [
       "<AxesSubplot:title={'center':'Departure time and taxi out'}, xlabel='binned_dep'>"
      ]
     },
     "execution_count": 27,
     "metadata": {},
     "output_type": "execute_result"
    },
    {
     "data": {
      "image/png": "[encoded data removed]",
      "text/plain": [
       "<Figure size 432x288 with 1 Axes>"
      ]
     },
     "metadata": {
      "needs_background": "light"
     },
     "output_type": "display_data"
    }
   ],
   "source": [
    "flights_sample_taxi.groupby(['binned_dep'])['taxi_out'].sum().plot.bar(title='Departure time and taxi out')"
   ]
  },
  {
   "cell_type": "code",
   "execution_count": 28,
   "metadata": {
    "colab": {
     "base_uri": "https://localhost:8080/",
     "height": 310
    },
    "colab_type": "code",
    "executionInfo": {
     "elapsed": 429,
     "status": "ok",
     "timestamp": 1598211096256,
     "user": {
      "displayName": "Phani Madhavi Singaraju",
      "photoUrl": "",
      "userId": "15920938042306922285"
     },
     "user_tz": 240
    },
    "id": "cWpTJ0NfzZHA",
    "outputId": "5ead4e5f-6796-4a7e-826f-0ac2cf3de0d5",
    "slideshow": {
     "slide_type": "slide"
    }
   },
   "outputs": [
    {
     "data": {
      "text/plain": [
       "<AxesSubplot:title={'center':'Arrival time and taxi in'}, xlabel='binned_arr'>"
      ]
     },
     "execution_count": 28,
     "metadata": {},
     "output_type": "execute_result"
    },
    {
     "data": {
      "image/png": "[encoded data removed]",
      "text/plain": [
       "<Figure size 432x288 with 1 Axes>"
      ]
     },
     "metadata": {
      "needs_background": "light"
     },
     "output_type": "display_data"
    }
   ],
   "source": [
    "flights_sample_taxi.groupby(['binned_arr'])['taxi_in'].sum().plot.bar(title='Arrival time and taxi in')\n"
   ]
  },
  {
   "cell_type": "markdown",
   "metadata": {
    "colab_type": "text",
    "id": "JMNDib070JAk",
    "slideshow": {
     "slide_type": "slide"
    }
   },
   "source": [
    "The taxi in and taxi out are more when the departure arrival traffic is more. "
   ]
  },
  {
   "cell_type": "markdown",
   "metadata": {
    "colab_type": "text",
    "id": "3q1i6u9wUFH2",
    "slideshow": {
     "slide_type": "slide"
    }
   },
   "source": [
    "#### **Task 5**: What is the average percentage of delays that is already created before departure? (aka are arrival delays caused by departure delays?) Are airlines able to lower the delay during the flights?"
   ]
  },
  {
   "cell_type": "code",
   "execution_count": 29,
   "metadata": {
    "colab": {
     "base_uri": "https://localhost:8080/",
     "height": 52
    },
    "colab_type": "code",
    "executionInfo": {
     "elapsed": 653,
     "status": "ok",
     "timestamp": 1598291260090,
     "user": {
      "displayName": "Jon Durand",
      "photoUrl": "",
      "userId": "11073466191630386305"
     },
     "user_tz": 300
    },
    "id": "0F0lrEV4UAvN",
    "outputId": "a541467c-b3b5-4f5e-b2f9-fd963cb0a6f5",
    "slideshow": {
     "slide_type": "skip"
    }
   },
   "outputs": [
    {
     "name": "stdout",
     "output_type": "stream",
     "text": [
      "0.7386800961346295\n",
      "0.2613199038653705\n"
     ]
    }
   ],
   "source": [
    "df = flights[['dep_delay','arr_delay']].dropna()\n",
    "df['diff'] = flights.arr_delay - flights.dep_delay\n",
    "pct_delay = df[df['diff'] <=0].shape[0] / df.shape[0]\n",
    "pct_other = df[df['diff'] >0].shape[0] / df.shape[0]\n",
    "print(pct_delay)\n",
    "print(pct_other)\n",
    "# Q part 1, see result\n",
    "# If they have a positive dep_delay, then which of those if dep_delya > 0 and arr_delay > 0 what are the percentages of those occurring\n",
    "# Q part 2, yes, they can lower the delay during flight as many flights had a shorter arrival delay than their departure delay"
   ]
  },
  {
   "cell_type": "code",
   "execution_count": 30,
   "metadata": {
    "colab": {
     "base_uri": "https://localhost:8080/",
     "height": 206
    },
    "colab_type": "code",
    "executionInfo": {
     "elapsed": 990,
     "status": "ok",
     "timestamp": 1598291270973,
     "user": {
      "displayName": "Jon Durand",
      "photoUrl": "",
      "userId": "11073466191630386305"
     },
     "user_tz": 300
    },
    "id": "IDR-AJM8UHSv",
    "outputId": "05abef23-481b-4485-e067-2a4e8874620f",
    "slideshow": {
     "slide_type": "slide"
    }
   },
   "outputs": [
    {
     "data": {
      "text/html": [
       "<div>\n",
       "<style scoped>\n",
       "    .dataframe tbody tr th:only-of-type {\n",
       "        vertical-align: middle;\n",
       "    }\n",
       "\n",
       "    .dataframe tbody tr th {\n",
       "        vertical-align: top;\n",
       "    }\n",
       "\n",
       "    .dataframe thead th {\n",
       "        text-align: right;\n",
       "    }\n",
       "</style>\n",
       "<table border=\"1\" class=\"dataframe\">\n",
       "  <thead>\n",
       "    <tr style=\"text-align: right;\">\n",
       "      <th></th>\n",
       "      <th>dep_delay</th>\n",
       "      <th>arr_delay</th>\n",
       "      <th>diff</th>\n",
       "    </tr>\n",
       "  </thead>\n",
       "  <tbody>\n",
       "    <tr>\n",
       "      <th>0</th>\n",
       "      <td>-5.0</td>\n",
       "      <td>-22.0</td>\n",
       "      <td>-17.0</td>\n",
       "    </tr>\n",
       "    <tr>\n",
       "      <th>1</th>\n",
       "      <td>49.0</td>\n",
       "      <td>123.0</td>\n",
       "      <td>74.0</td>\n",
       "    </tr>\n",
       "    <tr>\n",
       "      <th>2</th>\n",
       "      <td>-6.0</td>\n",
       "      <td>-13.0</td>\n",
       "      <td>-7.0</td>\n",
       "    </tr>\n",
       "    <tr>\n",
       "      <th>3</th>\n",
       "      <td>-4.0</td>\n",
       "      <td>-21.0</td>\n",
       "      <td>-17.0</td>\n",
       "    </tr>\n",
       "    <tr>\n",
       "      <th>4</th>\n",
       "      <td>-5.0</td>\n",
       "      <td>-12.0</td>\n",
       "      <td>-7.0</td>\n",
       "    </tr>\n",
       "  </tbody>\n",
       "</table>\n",
       "</div>"
      ],
      "text/plain": [
       "   dep_delay  arr_delay  diff\n",
       "0       -5.0      -22.0 -17.0\n",
       "1       49.0      123.0  74.0\n",
       "2       -6.0      -13.0  -7.0\n",
       "3       -4.0      -21.0 -17.0\n",
       "4       -5.0      -12.0  -7.0"
      ]
     },
     "execution_count": 30,
     "metadata": {},
     "output_type": "execute_result"
    }
   ],
   "source": [
    "''' \n",
    "When a departure is late, if a plane does not fly faster and experiences no further delay the arrival delay\n",
    "will equal the departure delay and the difference will be 0.\n",
    "\n",
    "If the plane flies faster and experiences no further delay the, the difference will be negative.\n",
    "\n",
    "Even if other delays are occasionally experienced, if pilots have a tendency to fly faster when departing late\n",
    "as the question would like us to test, then the mean value of diff for delayed flights should be smaller than the mean diff of \n",
    "flights with no delay.\n",
    "'''\n",
    "df.head()"
   ]
  },
  {
   "cell_type": "markdown",
   "metadata": {
    "colab_type": "text",
    "id": "7pyEg_2CUI0c",
    "slideshow": {
     "slide_type": "slide"
    }
   },
   "source": [
    "#### **Task 6**: How many states cover 50% of US air traffic? "
   ]
  },
  {
   "cell_type": "code",
   "execution_count": 31,
   "metadata": {
    "colab": {},
    "colab_type": "code",
    "id": "oLVKpVahUHYf",
    "slideshow": {
     "slide_type": "skip"
    }
   },
   "outputs": [],
   "source": [
    "flights_sample_states = flights.filter(['origin_airport_id','origin','origin_city_name','dest_airport_id', 'dest', 'dest_city_name','air_time','year','month'], axis=1)"
   ]
  },
  {
   "cell_type": "code",
   "execution_count": 32,
   "metadata": {
    "colab": {},
    "colab_type": "code",
    "id": "c-8FMjAtUHgd",
    "slideshow": {
     "slide_type": "skip"
    }
   },
   "outputs": [],
   "source": [
    "city_split1 = flights_sample_states['origin_city_name'].str.split(',')\n",
    "flights_sample_states['origin_city'] = [x[0] for x in city_split1]\n",
    "flights_sample_states['origin_state'] = [x[1] for x in city_split1]\n",
    "city_split2 = flights_sample_states['dest_city_name'].str.split(',')\n",
    "flights_sample_states['dest_city'] = [x[0] for x in city_split2]\n",
    "flights_sample_states['dest_state'] = [x[1] for x in city_split2]"
   ]
  },
  {
   "cell_type": "code",
   "execution_count": 33,
   "metadata": {
    "colab": {},
    "colab_type": "code",
    "id": "v-EEznVQUHeA",
    "slideshow": {
     "slide_type": "skip"
    }
   },
   "outputs": [],
   "source": [
    "states_2018=flights_sample_states.loc[flights_sample_states['year'] == '2018', 'origin_state'].value_counts()\n",
    "states_2019=flights_sample_states.loc[flights_sample_states['year'] == '2019', 'origin_state'].value_counts()\n",
    "df_states_2018=pd.DataFrame(states_2018)\n",
    "df_states_2019=pd.DataFrame(states_2019)"
   ]
  },
  {
   "cell_type": "code",
   "execution_count": 34,
   "metadata": {
    "colab": {},
    "colab_type": "code",
    "id": "B8EHHI-3GFyk",
    "slideshow": {
     "slide_type": "skip"
    }
   },
   "outputs": [],
   "source": [
    "df_states_2018['percentage']=df_states_2018['origin_state']*100/df_states_2018.origin_state.sum()\n",
    "df_states_2019['percentage']=df_states_2019['origin_state']*100/df_states_2019.origin_state.sum()"
   ]
  },
  {
   "cell_type": "code",
   "execution_count": 72,
   "metadata": {
    "slideshow": {
     "slide_type": "slide"
    }
   },
   "outputs": [
    {
     "data": {
      "image/png": "[encoded data removed]",
      "text/plain": [
       "<IPython.core.display.Image object>"
      ]
     },
     "execution_count": 72,
     "metadata": {},
     "output_type": "execute_result"
    }
   ],
   "source": [
    "Image(\"/media/mdesk/HD Shared/LHL-coursework/Midterm/data/percent traffic by state.png\")"
   ]
  },
  {
   "cell_type": "code",
   "execution_count": 35,
   "metadata": {
    "colab": {
     "base_uri": "https://localhost:8080/",
     "height": 730
    },
    "colab_type": "code",
    "executionInfo": {
     "elapsed": 1540,
     "status": "ok",
     "timestamp": 1598232348766,
     "user": {
      "displayName": "Phani Madhavi Singaraju",
      "photoUrl": "",
      "userId": "15920938042306922285"
     },
     "user_tz": 240
    },
    "id": "Lmf7zu3NGSS0",
    "outputId": "cde597d3-8f95-4013-cdf7-f542c4890563",
    "slideshow": {
     "slide_type": "skip"
    }
   },
   "outputs": [
    {
     "data": {
      "image/png": "[encoded data removed]",
      "text/plain": [
       "<Figure size 720x864 with 1 Axes>"
      ]
     },
     "metadata": {
      "needs_background": "light"
     },
     "output_type": "display_data"
    }
   ],
   "source": [
    "plt.barh(df_states_2018.index,df_states_2018.percentage,  color='green')\n",
    "plt.ylabel(\"States\")\n",
    "plt.xlabel(\"Percentage\")\n",
    "plt.title(\"Percentage of US air traffic in 2018\")\n",
    "fig = plt.gcf()\n",
    "fig.set_size_inches(10, 12)\n",
    "fig.savefig('airtraffic2018.png', dpi=100)\n",
    "plt.show()"
   ]
  },
  {
   "cell_type": "code",
   "execution_count": 36,
   "metadata": {
    "colab": {
     "base_uri": "https://localhost:8080/",
     "height": 730
    },
    "colab_type": "code",
    "executionInfo": {
     "elapsed": 1409,
     "status": "ok",
     "timestamp": 1598232354336,
     "user": {
      "displayName": "Phani Madhavi Singaraju",
      "photoUrl": "",
      "userId": "15920938042306922285"
     },
     "user_tz": 240
    },
    "id": "NHm93xUAGw4q",
    "outputId": "1ae3d33f-d4fa-4008-c036-66608fe86828",
    "slideshow": {
     "slide_type": "skip"
    }
   },
   "outputs": [
    {
     "data": {
      "image/png": "[encoded data removed]",
      "text/plain": [
       "<Figure size 720x864 with 1 Axes>"
      ]
     },
     "metadata": {
      "needs_background": "light"
     },
     "output_type": "display_data"
    }
   ],
   "source": [
    "plt.barh(df_states_2019.index,df_states_2019.percentage,  color='brown')\n",
    "\n",
    "\n",
    "plt.ylabel(\"States\")\n",
    "plt.xlabel(\"Percentage\")\n",
    "plt.title(\"Percentage of US air traffic in 2019\")\n",
    "\n",
    "fig = plt.gcf()\n",
    "fig.set_size_inches(10, 12)\n",
    "fig.savefig('airtraffic2019.png', dpi=100)\n",
    "\n",
    "plt.show()"
   ]
  },
  {
   "cell_type": "code",
   "execution_count": 37,
   "metadata": {
    "colab": {
     "base_uri": "https://localhost:8080/",
     "height": 297
    },
    "colab_type": "code",
    "executionInfo": {
     "elapsed": 1627,
     "status": "ok",
     "timestamp": 1598232398136,
     "user": {
      "displayName": "Phani Madhavi Singaraju",
      "photoUrl": "",
      "userId": "15920938042306922285"
     },
     "user_tz": 240
    },
    "id": "pwwCYiXLEprC",
    "outputId": "4feb4662-209a-4688-9899-bfbb6eae560d",
    "slideshow": {
     "slide_type": "slide"
    }
   },
   "outputs": [
    {
     "name": "stdout",
     "output_type": "stream",
     "text": [
      "origin_state    208116.000000\n",
      "percentage          53.159164\n",
      "dtype: float64\n"
     ]
    },
    {
     "data": {
      "text/html": [
       "<div>\n",
       "<style scoped>\n",
       "    .dataframe tbody tr th:only-of-type {\n",
       "        vertical-align: middle;\n",
       "    }\n",
       "\n",
       "    .dataframe tbody tr th {\n",
       "        vertical-align: top;\n",
       "    }\n",
       "\n",
       "    .dataframe thead th {\n",
       "        text-align: right;\n",
       "    }\n",
       "</style>\n",
       "<table border=\"1\" class=\"dataframe\">\n",
       "  <thead>\n",
       "    <tr style=\"text-align: right;\">\n",
       "      <th></th>\n",
       "      <th>origin_state</th>\n",
       "      <th>percentage</th>\n",
       "    </tr>\n",
       "  </thead>\n",
       "  <tbody>\n",
       "    <tr>\n",
       "      <th>CA</th>\n",
       "      <td>42819</td>\n",
       "      <td>10.937276</td>\n",
       "    </tr>\n",
       "    <tr>\n",
       "      <th>TX</th>\n",
       "      <td>37969</td>\n",
       "      <td>9.698439</td>\n",
       "    </tr>\n",
       "    <tr>\n",
       "      <th>FL</th>\n",
       "      <td>27976</td>\n",
       "      <td>7.145922</td>\n",
       "    </tr>\n",
       "    <tr>\n",
       "      <th>IL</th>\n",
       "      <td>24876</td>\n",
       "      <td>6.354088</td>\n",
       "    </tr>\n",
       "    <tr>\n",
       "      <th>GA</th>\n",
       "      <td>20775</td>\n",
       "      <td>5.306568</td>\n",
       "    </tr>\n",
       "    <tr>\n",
       "      <th>NY</th>\n",
       "      <td>20570</td>\n",
       "      <td>5.254204</td>\n",
       "    </tr>\n",
       "    <tr>\n",
       "      <th>NC</th>\n",
       "      <td>17892</td>\n",
       "      <td>4.570162</td>\n",
       "    </tr>\n",
       "    <tr>\n",
       "      <th>CO</th>\n",
       "      <td>15239</td>\n",
       "      <td>3.892505</td>\n",
       "    </tr>\n",
       "  </tbody>\n",
       "</table>\n",
       "</div>"
      ],
      "text/plain": [
       "     origin_state  percentage\n",
       " CA         42819   10.937276\n",
       " TX         37969    9.698439\n",
       " FL         27976    7.145922\n",
       " IL         24876    6.354088\n",
       " GA         20775    5.306568\n",
       " NY         20570    5.254204\n",
       " NC         17892    4.570162\n",
       " CO         15239    3.892505"
      ]
     },
     "execution_count": 37,
     "metadata": {},
     "output_type": "execute_result"
    }
   ],
   "source": [
    "print(df_states_2018.iloc[:8].sum())\n",
    "df_states_2018.iloc[:8]"
   ]
  },
  {
   "cell_type": "markdown",
   "metadata": {
    "colab_type": "text",
    "id": "3APqoaXDULMi",
    "slideshow": {
     "slide_type": "slide"
    }
   },
   "source": [
    "#### **Task 7**: Test the hypothesis whether planes fly faster when there is the departure delay? "
   ]
  },
  {
   "cell_type": "markdown",
   "metadata": {
    "colab": {},
    "colab_type": "code",
    "id": "DZ1K8x4IUHcG",
    "slideshow": {
     "slide_type": "slide"
    }
   },
   "source": [
    "When a departure is late, if a plane does not fly faster and experiences no further delay the arrival delay\n",
    "will equal the departure delay and the difference will be 0.\n",
    "\n",
    "If the plane flies faster and experiences no further delay the, the difference will be negative.\n",
    "\n",
    "Even if other delays are occasionally experienced, if pilots have a tendency to fly faster when departing late\n",
    "as the question would like us to test, then the mean value of diff for delayed flights should be smaller than the mean diff of \n",
    "flights with no delay."
   ]
  },
  {
   "cell_type": "code",
   "execution_count": 39,
   "metadata": {
    "colab": {
     "base_uri": "https://localhost:8080/",
     "height": 52
    },
    "colab_type": "code",
    "executionInfo": {
     "elapsed": 836,
     "status": "ok",
     "timestamp": 1598298635691,
     "user": {
      "displayName": "Jon Durand",
      "photoUrl": "",
      "userId": "11073466191630386305"
     },
     "user_tz": 300
    },
    "id": "owgEcq-hMPHo",
    "outputId": "8f9345fd-a29b-4879-fe9c-0a7b6c26cada",
    "slideshow": {
     "slide_type": "slide"
    }
   },
   "outputs": [
    {
     "name": "stdout",
     "output_type": "stream",
     "text": [
      "KstestResult(statistic=0.02951280885456886, pvalue=3.528425713304159e-133)\n",
      "stat=-18.915, p=0.000\n",
      "Probably different distributions\n"
     ]
    }
   ],
   "source": [
    "df = flights[['dep_delay','arr_delay']].dropna()\n",
    "df['diff'] = flights.arr_delay - flights.dep_delay\n",
    "# print(df.head())\n",
    "no_delay = df[df.dep_delay <=0]['diff']\n",
    "has_delay = df[df.dep_delay >0]['diff']\n",
    "\n",
    "stat, p = stats.ttest_ind(no_delay.values, has_delay.values,)\n",
    "print(stats.ks_2samp(no_delay,has_delay))\n",
    "print('stat=%.3f, p=%.3f' % (stat, p))\n",
    "if p > 0.05:\n",
    "\tprint('Probably the same distribution')\n",
    "else:\n",
    "\tprint('Probably different distributions')\n",
    " \n",
    " # H0 that delays and non-delays have the same mean p < alpha so there is sufficient evidence \\n\n",
    " # to support the claim that has_delays has a different mean than no_delays\n",
    " \n",
    "\n"
   ]
  },
  {
   "cell_type": "code",
   "execution_count": 40,
   "metadata": {
    "colab": {},
    "colab_type": "code",
    "id": "g0JBccOaUHVy",
    "slideshow": {
     "slide_type": "skip"
    }
   },
   "outputs": [],
   "source": [
    "# flights['route'] = flights['origin_city_name'] + ' '+ flights['dest_city_name']\n",
    "# no_delay = flights[flights.dep_delay <= 0][['air_time']]#.mean()#.plot(kind='hist',title='No Delay')\n",
    "# has_delay = flights[flights.dep_delay > 0][['air_time']]#.mean()#.plot(kind='hist',title='With Delay')\n"
   ]
  },
  {
   "cell_type": "markdown",
   "metadata": {
    "colab_type": "text",
    "id": "MZw9iYjjSKcb",
    "slideshow": {
     "slide_type": "slide"
    }
   },
   "source": [
    "#### **Task 8**: When (which hour) do most 'LONG', 'SHORT', 'MEDIUM' haul flights take off?"
   ]
  },
  {
   "cell_type": "code",
   "execution_count": 41,
   "metadata": {
    "colab": {
     "base_uri": "https://localhost:8080/",
     "height": 206
    },
    "colab_type": "code",
    "executionInfo": {
     "elapsed": 2575,
     "status": "ok",
     "timestamp": 1598212019350,
     "user": {
      "displayName": "Jon Durand",
      "photoUrl": "",
      "userId": "11073466191630386305"
     },
     "user_tz": 300
    },
    "id": "9N0sVnQE137H",
    "outputId": "94928102-2cf7-414c-f2ac-c32d84d021bc",
    "slideshow": {
     "slide_type": "skip"
    }
   },
   "outputs": [
    {
     "data": {
      "text/html": [
       "<div>\n",
       "<style scoped>\n",
       "    .dataframe tbody tr th:only-of-type {\n",
       "        vertical-align: middle;\n",
       "    }\n",
       "\n",
       "    .dataframe tbody tr th {\n",
       "        vertical-align: top;\n",
       "    }\n",
       "\n",
       "    .dataframe thead th {\n",
       "        text-align: right;\n",
       "    }\n",
       "</style>\n",
       "<table border=\"1\" class=\"dataframe\">\n",
       "  <thead>\n",
       "    <tr style=\"text-align: right;\">\n",
       "      <th></th>\n",
       "      <th>dep_time</th>\n",
       "      <th>flight_cat</th>\n",
       "    </tr>\n",
       "  </thead>\n",
       "  <tbody>\n",
       "    <tr>\n",
       "      <th>0</th>\n",
       "      <td>9</td>\n",
       "      <td>short_haul</td>\n",
       "    </tr>\n",
       "    <tr>\n",
       "      <th>1</th>\n",
       "      <td>15</td>\n",
       "      <td>short_haul</td>\n",
       "    </tr>\n",
       "    <tr>\n",
       "      <th>2</th>\n",
       "      <td>6</td>\n",
       "      <td>short_haul</td>\n",
       "    </tr>\n",
       "    <tr>\n",
       "      <th>3</th>\n",
       "      <td>11</td>\n",
       "      <td>short_haul</td>\n",
       "    </tr>\n",
       "    <tr>\n",
       "      <th>4</th>\n",
       "      <td>10</td>\n",
       "      <td>short_haul</td>\n",
       "    </tr>\n",
       "  </tbody>\n",
       "</table>\n",
       "</div>"
      ],
      "text/plain": [
       "   dep_time  flight_cat\n",
       "0         9  short_haul\n",
       "1        15  short_haul\n",
       "2         6  short_haul\n",
       "3        11  short_haul\n",
       "4        10  short_haul"
      ]
     },
     "execution_count": 41,
     "metadata": {},
     "output_type": "execute_result"
    }
   ],
   "source": [
    "temp = flights[['air_time','dep_time']].dropna()\n",
    "\n",
    "conditions = [temp.air_time <= 3*60,\n",
    "              (temp.air_time > 3*60) & (temp.air_time <= 7*60),\n",
    "              temp.air_time > 7*60]\n",
    "\n",
    "choices = ['short_haul','medium_haul','long_haul']\n",
    "\n",
    "temp['flight_cat'] = np.select(conditions, choices, default=0)\n",
    "# with flight_cat made, don't need air_time\n",
    "temp.drop('air_time',axis=1, inplace=True)\n",
    "temp.dep_time = temp.dep_time.astype(int).astype(str)\n",
    "def hours(x):\n",
    "  if len(x) > 2:\n",
    "    return int(x[:-2]) + int(x[-2:])/60 \n",
    "  else:\n",
    "    return int(x[-2:])/60\n",
    "\n",
    "temp.dep_time = temp.dep_time.map(lambda x: int(hours(x)//1) )\n",
    "temp.head()"
   ]
  },
  {
   "cell_type": "code",
   "execution_count": 42,
   "metadata": {
    "colab": {
     "base_uri": "https://localhost:8080/",
     "height": 404
    },
    "colab_type": "code",
    "executionInfo": {
     "elapsed": 1185,
     "status": "ok",
     "timestamp": 1598212792656,
     "user": {
      "displayName": "Jon Durand",
      "photoUrl": "",
      "userId": "11073466191630386305"
     },
     "user_tz": 300
    },
    "id": "jBU7GsV2bKwD",
    "outputId": "c43f342e-0181-4c81-bb32-073d9f8a8378",
    "slideshow": {
     "slide_type": "slide"
    }
   },
   "outputs": [
    {
     "data": {
      "image/png": "[encoded data removed]",
      "text/plain": [
       "<Figure size 720x432 with 1 Axes>"
      ]
     },
     "metadata": {
      "needs_background": "light"
     },
     "output_type": "display_data"
    }
   ],
   "source": [
    "x1 = temp[temp.flight_cat == 'short_haul'].groupby('dep_time').count().reset_index()\n",
    "x2 = temp[temp.flight_cat == 'medium_haul'].groupby('dep_time').count().reset_index()\n",
    "x3 = temp[temp.flight_cat == 'long_haul'].groupby('dep_time').count().reset_index()\n",
    "\n",
    "fig, axes = plt.subplots(figsize = (10,6)) # nrows=3, ncols=1 ,\n",
    "# ax = plt.subplot(111)\n",
    "axes.bar(x1.dep_time.values, x1.flight_cat.values, color='g', label='short_haul', )\n",
    "axes.bar(x2.dep_time.values, x2.flight_cat.values, color='r', label='medium_haul')\n",
    "axes.bar(x3.dep_time.values, x3.flight_cat.values, color='b', label='long_haul')\n",
    "axes.set(title='Count of Flight Category by Hour', ylabel='Count', xlabel='Hour')\n",
    "plt.legend();"
   ]
  },
  {
   "cell_type": "code",
   "execution_count": 43,
   "metadata": {
    "colab": {
     "base_uri": "https://localhost:8080/",
     "height": 404
    },
    "colab_type": "code",
    "executionInfo": {
     "elapsed": 1084,
     "status": "ok",
     "timestamp": 1598212834937,
     "user": {
      "displayName": "Jon Durand",
      "photoUrl": "",
      "userId": "11073466191630386305"
     },
     "user_tz": 300
    },
    "id": "nuYmlOO_UOXs",
    "outputId": "45bc6ead-e591-4397-a4aa-96143eb0e2a7",
    "slideshow": {
     "slide_type": "slide"
    }
   },
   "outputs": [
    {
     "data": {
      "image/png": "[encoded data removed]",
      "text/plain": [
       "<Figure size 720x432 with 1 Axes>"
      ]
     },
     "metadata": {
      "needs_background": "light"
     },
     "output_type": "display_data"
    }
   ],
   "source": [
    "x3 = temp[temp.flight_cat == 'long_haul'].groupby('dep_time').count().reset_index()\n",
    "\n",
    "fig, axes = plt.subplots(figsize = (10,6)) # nrows=3, ncols=1 ,\n",
    "axes.bar(x3.dep_time.values, x3.flight_cat.values, color='b', label='long_haul')\n",
    "axes.set(title='Count of Flight Category by Hour', ylabel='Count', xlabel='Hour')\n",
    "plt.legend();"
   ]
  },
  {
   "cell_type": "markdown",
   "metadata": {
    "colab_type": "text",
    "id": "En3J7H41UOk1",
    "slideshow": {
     "slide_type": "slide"
    }
   },
   "source": [
    "#### **Task 9**: Find the top 10 the bussiest airports. Does the biggest number of flights mean that the biggest number of passengers went through the particular airport? How much traffic do these 10 airports cover?"
   ]
  },
  {
   "cell_type": "code",
   "execution_count": 44,
   "metadata": {
    "colab": {
     "base_uri": "https://localhost:8080/",
     "height": 133
    },
    "colab_type": "code",
    "executionInfo": {
     "elapsed": 837,
     "status": "error",
     "timestamp": 1598312405632,
     "user": {
      "displayName": "Jon Durand",
      "photoUrl": "",
      "userId": "11073466191630386305"
     },
     "user_tz": 300
    },
    "id": "z-zkciBChYau",
    "outputId": "092e20a8-7bc3-49fe-b39f-80056919ab10",
    "slideshow": {
     "slide_type": "slide"
    }
   },
   "outputs": [
    {
     "data": {
      "text/html": [
       "<div>\n",
       "<style scoped>\n",
       "    .dataframe tbody tr th:only-of-type {\n",
       "        vertical-align: middle;\n",
       "    }\n",
       "\n",
       "    .dataframe tbody tr th {\n",
       "        vertical-align: top;\n",
       "    }\n",
       "\n",
       "    .dataframe thead th {\n",
       "        text-align: right;\n",
       "    }\n",
       "</style>\n",
       "<table border=\"1\" class=\"dataframe\">\n",
       "  <thead>\n",
       "    <tr style=\"text-align: right;\">\n",
       "      <th></th>\n",
       "      <th>airport_city</th>\n",
       "      <th>passengers</th>\n",
       "      <th>pct_traffic</th>\n",
       "    </tr>\n",
       "  </thead>\n",
       "  <tbody>\n",
       "    <tr>\n",
       "      <th>0</th>\n",
       "      <td>Atlanta, GA</td>\n",
       "      <td>515300223</td>\n",
       "      <td>0.10</td>\n",
       "    </tr>\n",
       "    <tr>\n",
       "      <th>1</th>\n",
       "      <td>Chicago, IL</td>\n",
       "      <td>498550393</td>\n",
       "      <td>0.10</td>\n",
       "    </tr>\n",
       "    <tr>\n",
       "      <th>2</th>\n",
       "      <td>New York, NY</td>\n",
       "      <td>447451637</td>\n",
       "      <td>0.09</td>\n",
       "    </tr>\n",
       "    <tr>\n",
       "      <th>3</th>\n",
       "      <td>Los Angeles, CA</td>\n",
       "      <td>410933768</td>\n",
       "      <td>0.08</td>\n",
       "    </tr>\n",
       "    <tr>\n",
       "      <th>4</th>\n",
       "      <td>Dallas/Fort Worth, TX</td>\n",
       "      <td>328157387</td>\n",
       "      <td>0.07</td>\n",
       "    </tr>\n",
       "  </tbody>\n",
       "</table>\n",
       "</div>"
      ],
      "text/plain": [
       "            airport_city  passengers  pct_traffic\n",
       "0            Atlanta, GA   515300223         0.10\n",
       "1            Chicago, IL   498550393         0.10\n",
       "2           New York, NY   447451637         0.09\n",
       "3        Los Angeles, CA   410933768         0.08\n",
       "4  Dallas/Fort Worth, TX   328157387         0.07"
      ]
     },
     "execution_count": 44,
     "metadata": {},
     "output_type": "execute_result"
    }
   ],
   "source": [
    "def busiest_airport_bypassengers(passengers_df):\n",
    "  df1 = passengers_df[['passengers','origin_city_name']]\n",
    "  df2 = passengers_df[['passengers','dest_city_name']]\n",
    "  df1 = df1.rename(columns={'origin_city_name':'airport_city'})\n",
    "  df2 = df2.rename(columns={'dest_city_name':'airport_city'})\n",
    "  df3 = pd.concat((df1,df2), axis=0)\n",
    "  df4 = df3.groupby('airport_city').sum().sort_values('passengers', ascending=False).reset_index()\n",
    "  df4['pct_traffic'] = round(df4.passengers / passengers_df.passengers.sum(),2)\n",
    "  return df4\n",
    "\n",
    "result = busiest_airport_bypassengers(passengers)\n",
    "result.head()\n"
   ]
  },
  {
   "cell_type": "code",
   "execution_count": 45,
   "metadata": {
    "colab": {
     "base_uri": "https://localhost:8080/",
     "height": 220
    },
    "colab_type": "code",
    "executionInfo": {
     "elapsed": 867,
     "status": "error",
     "timestamp": 1598312722571,
     "user": {
      "displayName": "Jon Durand",
      "photoUrl": "",
      "userId": "11073466191630386305"
     },
     "user_tz": 300
    },
    "id": "4NGss0YAUPgP",
    "outputId": "ff318468-784d-4be0-c8cb-32ce2b77927f",
    "slideshow": {
     "slide_type": "slide"
    }
   },
   "outputs": [
    {
     "data": {
      "text/html": [
       "<div>\n",
       "<style scoped>\n",
       "    .dataframe tbody tr th:only-of-type {\n",
       "        vertical-align: middle;\n",
       "    }\n",
       "\n",
       "    .dataframe tbody tr th {\n",
       "        vertical-align: top;\n",
       "    }\n",
       "\n",
       "    .dataframe thead th {\n",
       "        text-align: right;\n",
       "    }\n",
       "</style>\n",
       "<table border=\"1\" class=\"dataframe\">\n",
       "  <thead>\n",
       "    <tr style=\"text-align: right;\">\n",
       "      <th></th>\n",
       "      <th>airport_city</th>\n",
       "      <th>num_flights</th>\n",
       "      <th>pct_traffic</th>\n",
       "    </tr>\n",
       "  </thead>\n",
       "  <tbody>\n",
       "    <tr>\n",
       "      <th>0</th>\n",
       "      <td>Chicago, IL</td>\n",
       "      <td>96328</td>\n",
       "      <td>0.12</td>\n",
       "    </tr>\n",
       "    <tr>\n",
       "      <th>1</th>\n",
       "      <td>Atlanta, GA</td>\n",
       "      <td>78732</td>\n",
       "      <td>0.10</td>\n",
       "    </tr>\n",
       "    <tr>\n",
       "      <th>2</th>\n",
       "      <td>New York, NY</td>\n",
       "      <td>59779</td>\n",
       "      <td>0.08</td>\n",
       "    </tr>\n",
       "    <tr>\n",
       "      <th>3</th>\n",
       "      <td>Dallas/Fort Worth, TX</td>\n",
       "      <td>58612</td>\n",
       "      <td>0.07</td>\n",
       "    </tr>\n",
       "    <tr>\n",
       "      <th>4</th>\n",
       "      <td>Denver, CO</td>\n",
       "      <td>55584</td>\n",
       "      <td>0.07</td>\n",
       "    </tr>\n",
       "  </tbody>\n",
       "</table>\n",
       "</div>"
      ],
      "text/plain": [
       "            airport_city  num_flights  pct_traffic\n",
       "0            Chicago, IL        96328         0.12\n",
       "1            Atlanta, GA        78732         0.10\n",
       "2           New York, NY        59779         0.08\n",
       "3  Dallas/Fort Worth, TX        58612         0.07\n",
       "4             Denver, CO        55584         0.07"
      ]
     },
     "execution_count": 45,
     "metadata": {},
     "output_type": "execute_result"
    }
   ],
   "source": [
    "def busiest_airport_byflights(flights_df):\n",
    "  df1 = flights_df[['origin_city_name']]\n",
    "  df2 = flights_df[['dest_city_name']]\n",
    "  df1 = df1.rename(columns={'origin_city_name':'airport_city'})\n",
    "  df2 = df2.rename(columns={'dest_city_name':'airport_city'})\n",
    "  df3 = pd.concat((df1,df2), axis=0)\n",
    "  df3 = df3['airport_city'].value_counts().reset_index().rename(columns={'index':'airport_city','airport_city':'num_flights'})\n",
    "  df3['pct_traffic'] = round(df3.num_flights / len(flights_df),2)\n",
    "  return df3.sort_values('num_flights',ascending=False)\n",
    "\n",
    "result = busiest_airport_byflights(flights)\n",
    "result.head()"
   ]
  },
  {
   "cell_type": "markdown",
   "metadata": {
    "colab_type": "text",
    "id": "_19V3nAaUQxf",
    "slideshow": {
     "slide_type": "slide"
    }
   },
   "source": [
    "#### **Task 10**: Do bigger delays lead to bigger fuel comsumption per passenger? \n",
    "We need to do four things to answer this as accurate as possible:\n",
    "- Find out average monthly delay per air carrier (monthly delay is sum of all delays in 1 month)\n",
    "- Find out distance covered monthly by different air carriers\n",
    "- Find out number of passengers that were carried by different air carriers\n",
    "- Find out total fuel consumption per air carrier.\n",
    "\n",
    "Use this information to get the average fuel comsumption per passenger per km. Is this higher for the airlines with bigger average delays?"
   ]
  },
  {
   "cell_type": "code",
   "execution_count": 46,
   "metadata": {
    "colab": {
     "base_uri": "https://localhost:8080/",
     "height": 34
    },
    "colab_type": "code",
    "executionInfo": {
     "elapsed": 1158,
     "status": "ok",
     "timestamp": 1598241123441,
     "user": {
      "displayName": "Jon Durand",
      "photoUrl": "",
      "userId": "11073466191630386305"
     },
     "user_tz": 300
    },
    "id": "g074wb7-mHGg",
    "outputId": "0ec9eea2-3304-4c87-d947-3938dacdf885",
    "slideshow": {
     "slide_type": "skip"
    }
   },
   "outputs": [
    {
     "data": {
      "text/plain": [
       "(377,)"
      ]
     },
     "execution_count": 46,
     "metadata": {},
     "output_type": "execute_result"
    }
   ],
   "source": [
    "total_monthly_passengers_per_carrier = passengers[passengers.year.isin([2018, 2019])].groupby('unique_carrier').sum()['passengers']\n",
    "passengers.unique_carrier.unique().shape"
   ]
  },
  {
   "cell_type": "code",
   "execution_count": 47,
   "metadata": {
    "colab": {},
    "colab_type": "code",
    "id": "SO2HzNEBm-8P",
    "slideshow": {
     "slide_type": "skip"
    }
   },
   "outputs": [],
   "source": [
    "tot_monthly_fuel_per_carrier = fuel[fuel.year.isin([2018, 2019])].groupby('unique_carrier').sum()['total_gallons']\n",
    "# rows are less than  fuel.unique_carrier.unique() likely because there are carriers that only flew in other years than the ones we've selected. "
   ]
  },
  {
   "cell_type": "code",
   "execution_count": 48,
   "metadata": {
    "colab": {},
    "colab_type": "code",
    "id": "toFiZyXG_QTA",
    "slideshow": {
     "slide_type": "skip"
    }
   },
   "outputs": [],
   "source": [
    "carrier=flights.filter(['op_unique_carrier','dep_delay','arr_delay','month'], axis=1)\n",
    "carrier.rename(columns={'op_unique_carrier':'carrier','arr_delay':'delay'},inplace=True)\n",
    "air_carrier_delay=pd.DataFrame(carrier.groupby(['carrier','month'])['delay'].mean())\n",
    "# Delay used is only Arrival Delay as that would include the Departure Delay\n"
   ]
  },
  {
   "cell_type": "code",
   "execution_count": 49,
   "metadata": {
    "colab": {},
    "colab_type": "code",
    "id": "EyoiNrTYFt7F",
    "slideshow": {
     "slide_type": "skip"
    }
   },
   "outputs": [],
   "source": [
    "# carrier.groupby(['carrier','month'])['delay'].mean().unstack('month').plot.bar(width=1)\n",
    "# fig = plt.gcf()\n",
    "# fig.set_size_inches(20, 10)\n",
    "# fig.savefig('carrier.png', dpi=100)\n",
    "\n"
   ]
  },
  {
   "cell_type": "code",
   "execution_count": 50,
   "metadata": {
    "colab": {
     "base_uri": "https://localhost:8080/",
     "height": 238
    },
    "colab_type": "code",
    "executionInfo": {
     "elapsed": 743,
     "status": "ok",
     "timestamp": 1598241188299,
     "user": {
      "displayName": "Jon Durand",
      "photoUrl": "",
      "userId": "11073466191630386305"
     },
     "user_tz": 300
    },
    "id": "Qu_lDL9hFvKH",
    "outputId": "8c073e26-39e8-4565-a438-d2dd2cf9b338",
    "slideshow": {
     "slide_type": "skip"
    }
   },
   "outputs": [
    {
     "data": {
      "text/html": [
       "<div>\n",
       "<style scoped>\n",
       "    .dataframe tbody tr th:only-of-type {\n",
       "        vertical-align: middle;\n",
       "    }\n",
       "\n",
       "    .dataframe tbody tr th {\n",
       "        vertical-align: top;\n",
       "    }\n",
       "\n",
       "    .dataframe thead th {\n",
       "        text-align: right;\n",
       "    }\n",
       "</style>\n",
       "<table border=\"1\" class=\"dataframe\">\n",
       "  <thead>\n",
       "    <tr style=\"text-align: right;\">\n",
       "      <th></th>\n",
       "      <th></th>\n",
       "      <th>distance</th>\n",
       "    </tr>\n",
       "    <tr>\n",
       "      <th>carrier</th>\n",
       "      <th>month</th>\n",
       "      <th></th>\n",
       "    </tr>\n",
       "  </thead>\n",
       "  <tbody>\n",
       "    <tr>\n",
       "      <th rowspan=\"5\" valign=\"top\">9E</th>\n",
       "      <th>01</th>\n",
       "      <td>870241</td>\n",
       "    </tr>\n",
       "    <tr>\n",
       "      <th>02</th>\n",
       "      <td>861332</td>\n",
       "    </tr>\n",
       "    <tr>\n",
       "      <th>03</th>\n",
       "      <td>1019066</td>\n",
       "    </tr>\n",
       "    <tr>\n",
       "      <th>04</th>\n",
       "      <td>995050</td>\n",
       "    </tr>\n",
       "    <tr>\n",
       "      <th>05</th>\n",
       "      <td>945937</td>\n",
       "    </tr>\n",
       "  </tbody>\n",
       "</table>\n",
       "</div>"
      ],
      "text/plain": [
       "               distance\n",
       "carrier month          \n",
       "9E      01       870241\n",
       "        02       861332\n",
       "        03      1019066\n",
       "        04       995050\n",
       "        05       945937"
      ]
     },
     "execution_count": 50,
     "metadata": {},
     "output_type": "execute_result"
    }
   ],
   "source": [
    "distance=flights.filter(['op_unique_carrier','distance','month'])\n",
    "distance.rename(columns={'op_unique_carrier':'carrier'},inplace=True)\n",
    "carrier_distance=pd.DataFrame(distance.groupby(['carrier','month'])['distance'].sum())\n",
    "carrier_distance.head()"
   ]
  },
  {
   "cell_type": "code",
   "execution_count": 51,
   "metadata": {
    "colab": {},
    "colab_type": "code",
    "id": "lw2hASyBFvsC",
    "slideshow": {
     "slide_type": "skip"
    }
   },
   "outputs": [],
   "source": [
    "# carrier_distance.groupby(['carrier','month'])['distance'].sum().unstack('month').plot.bar(width=1)\n",
    "# fig = plt.gcf()\n",
    "# fig.set_size_inches(20, 10)\n",
    "# fig.savefig('distance.png', dpi=100)"
   ]
  },
  {
   "cell_type": "code",
   "execution_count": 52,
   "metadata": {
    "colab": {},
    "colab_type": "code",
    "id": "e2XOtygdJECG",
    "slideshow": {
     "slide_type": "skip"
    }
   },
   "outputs": [],
   "source": [
    "h1 = total_monthly_passengers_per_carrier.reset_index()\n"
   ]
  },
  {
   "cell_type": "code",
   "execution_count": 53,
   "metadata": {
    "colab": {
     "base_uri": "https://localhost:8080/",
     "height": 81
    },
    "colab_type": "code",
    "executionInfo": {
     "elapsed": 831,
     "status": "ok",
     "timestamp": 1598241210615,
     "user": {
      "displayName": "Jon Durand",
      "photoUrl": "",
      "userId": "11073466191630386305"
     },
     "user_tz": 300
    },
    "id": "mfSBD_DOJE3x",
    "outputId": "13bd2be5-5644-438a-be12-8f7f2b13bec8",
    "slideshow": {
     "slide_type": "skip"
    }
   },
   "outputs": [],
   "source": [
    "h2 = tot_monthly_fuel_per_carrier.reset_index()\n",
    "h3 = h2.merge(h1, how='left',on='unique_carrier')\n",
    "h3.rename(columns={'unique_carrier':'carrier'}, inplace=True)\n",
    "carrierlist = h3.carrier.to_list()\n"
   ]
  },
  {
   "cell_type": "code",
   "execution_count": 54,
   "metadata": {
    "colab": {
     "base_uri": "https://localhost:8080/",
     "height": 206
    },
    "colab_type": "code",
    "executionInfo": {
     "elapsed": 938,
     "status": "ok",
     "timestamp": 1598241223005,
     "user": {
      "displayName": "Jon Durand",
      "photoUrl": "",
      "userId": "11073466191630386305"
     },
     "user_tz": 300
    },
    "id": "rGddCHoiJOFS",
    "outputId": "141b5324-1f7e-4f8a-a6d7-3252b689cb77",
    "slideshow": {
     "slide_type": "skip"
    }
   },
   "outputs": [
    {
     "data": {
      "text/html": [
       "<div>\n",
       "<style scoped>\n",
       "    .dataframe tbody tr th:only-of-type {\n",
       "        vertical-align: middle;\n",
       "    }\n",
       "\n",
       "    .dataframe tbody tr th {\n",
       "        vertical-align: top;\n",
       "    }\n",
       "\n",
       "    .dataframe thead th {\n",
       "        text-align: right;\n",
       "    }\n",
       "</style>\n",
       "<table border=\"1\" class=\"dataframe\">\n",
       "  <thead>\n",
       "    <tr style=\"text-align: right;\">\n",
       "      <th></th>\n",
       "      <th>carrier</th>\n",
       "      <th>month</th>\n",
       "      <th>distance</th>\n",
       "      <th>total_gallons</th>\n",
       "      <th>passengers</th>\n",
       "      <th>avg_gall_pass_km</th>\n",
       "    </tr>\n",
       "  </thead>\n",
       "  <tbody>\n",
       "    <tr>\n",
       "      <th>12</th>\n",
       "      <td>AA</td>\n",
       "      <td>01</td>\n",
       "      <td>7643305</td>\n",
       "      <td>6.416096e+09</td>\n",
       "      <td>304746529</td>\n",
       "      <td>0.000003</td>\n",
       "    </tr>\n",
       "    <tr>\n",
       "      <th>13</th>\n",
       "      <td>AA</td>\n",
       "      <td>02</td>\n",
       "      <td>6884494</td>\n",
       "      <td>6.416096e+09</td>\n",
       "      <td>304746529</td>\n",
       "      <td>0.000003</td>\n",
       "    </tr>\n",
       "    <tr>\n",
       "      <th>14</th>\n",
       "      <td>AA</td>\n",
       "      <td>03</td>\n",
       "      <td>7981398</td>\n",
       "      <td>6.416096e+09</td>\n",
       "      <td>304746529</td>\n",
       "      <td>0.000003</td>\n",
       "    </tr>\n",
       "    <tr>\n",
       "      <th>15</th>\n",
       "      <td>AA</td>\n",
       "      <td>04</td>\n",
       "      <td>7397107</td>\n",
       "      <td>6.416096e+09</td>\n",
       "      <td>304746529</td>\n",
       "      <td>0.000003</td>\n",
       "    </tr>\n",
       "    <tr>\n",
       "      <th>16</th>\n",
       "      <td>AA</td>\n",
       "      <td>05</td>\n",
       "      <td>7822480</td>\n",
       "      <td>6.416096e+09</td>\n",
       "      <td>304746529</td>\n",
       "      <td>0.000003</td>\n",
       "    </tr>\n",
       "  </tbody>\n",
       "</table>\n",
       "</div>"
      ],
      "text/plain": [
       "   carrier month  distance  total_gallons  passengers  avg_gall_pass_km\n",
       "12      AA    01   7643305   6.416096e+09   304746529          0.000003\n",
       "13      AA    02   6884494   6.416096e+09   304746529          0.000003\n",
       "14      AA    03   7981398   6.416096e+09   304746529          0.000003\n",
       "15      AA    04   7397107   6.416096e+09   304746529          0.000003\n",
       "16      AA    05   7822480   6.416096e+09   304746529          0.000003"
      ]
     },
     "execution_count": 54,
     "metadata": {},
     "output_type": "execute_result"
    }
   ],
   "source": [
    "h4 = carrier_distance.reset_index()\n",
    "h4 = h4[h4.carrier.isin(carrierlist)]\n",
    "h5 = h4.merge(h3, how='left',on='carrier')\n",
    "h5 = h5[h5.total_gallons !=0]\n",
    "h5['avg_gall_pass_km'] = h5.total_gallons / h5.passengers  / h5.distance\n",
    "h5.head()\n"
   ]
  },
  {
   "cell_type": "code",
   "execution_count": 55,
   "metadata": {
    "colab": {
     "base_uri": "https://localhost:8080/",
     "height": 206
    },
    "colab_type": "code",
    "executionInfo": {
     "elapsed": 841,
     "status": "ok",
     "timestamp": 1598241227263,
     "user": {
      "displayName": "Jon Durand",
      "photoUrl": "",
      "userId": "11073466191630386305"
     },
     "user_tz": 300
    },
    "id": "POFq2lgTUHMY",
    "outputId": "2c070b15-f108-474e-f15a-437016587da5",
    "slideshow": {
     "slide_type": "skip"
    }
   },
   "outputs": [
    {
     "data": {
      "text/html": [
       "<div>\n",
       "<style scoped>\n",
       "    .dataframe tbody tr th:only-of-type {\n",
       "        vertical-align: middle;\n",
       "    }\n",
       "\n",
       "    .dataframe tbody tr th {\n",
       "        vertical-align: top;\n",
       "    }\n",
       "\n",
       "    .dataframe thead th {\n",
       "        text-align: right;\n",
       "    }\n",
       "</style>\n",
       "<table border=\"1\" class=\"dataframe\">\n",
       "  <thead>\n",
       "    <tr style=\"text-align: right;\">\n",
       "      <th></th>\n",
       "      <th>carrier</th>\n",
       "      <th>month</th>\n",
       "      <th>distance</th>\n",
       "      <th>total_gallons</th>\n",
       "      <th>passengers</th>\n",
       "      <th>avg_gall_pass_km</th>\n",
       "      <th>carrier_month</th>\n",
       "    </tr>\n",
       "  </thead>\n",
       "  <tbody>\n",
       "    <tr>\n",
       "      <th>12</th>\n",
       "      <td>AA</td>\n",
       "      <td>01</td>\n",
       "      <td>7643305</td>\n",
       "      <td>6.416096e+09</td>\n",
       "      <td>304746529</td>\n",
       "      <td>0.000003</td>\n",
       "      <td>AA01</td>\n",
       "    </tr>\n",
       "    <tr>\n",
       "      <th>13</th>\n",
       "      <td>AA</td>\n",
       "      <td>02</td>\n",
       "      <td>6884494</td>\n",
       "      <td>6.416096e+09</td>\n",
       "      <td>304746529</td>\n",
       "      <td>0.000003</td>\n",
       "      <td>AA02</td>\n",
       "    </tr>\n",
       "    <tr>\n",
       "      <th>14</th>\n",
       "      <td>AA</td>\n",
       "      <td>03</td>\n",
       "      <td>7981398</td>\n",
       "      <td>6.416096e+09</td>\n",
       "      <td>304746529</td>\n",
       "      <td>0.000003</td>\n",
       "      <td>AA03</td>\n",
       "    </tr>\n",
       "    <tr>\n",
       "      <th>15</th>\n",
       "      <td>AA</td>\n",
       "      <td>04</td>\n",
       "      <td>7397107</td>\n",
       "      <td>6.416096e+09</td>\n",
       "      <td>304746529</td>\n",
       "      <td>0.000003</td>\n",
       "      <td>AA04</td>\n",
       "    </tr>\n",
       "    <tr>\n",
       "      <th>16</th>\n",
       "      <td>AA</td>\n",
       "      <td>05</td>\n",
       "      <td>7822480</td>\n",
       "      <td>6.416096e+09</td>\n",
       "      <td>304746529</td>\n",
       "      <td>0.000003</td>\n",
       "      <td>AA05</td>\n",
       "    </tr>\n",
       "  </tbody>\n",
       "</table>\n",
       "</div>"
      ],
      "text/plain": [
       "   carrier month  distance  total_gallons  passengers  avg_gall_pass_km  \\\n",
       "12      AA    01   7643305   6.416096e+09   304746529          0.000003   \n",
       "13      AA    02   6884494   6.416096e+09   304746529          0.000003   \n",
       "14      AA    03   7981398   6.416096e+09   304746529          0.000003   \n",
       "15      AA    04   7397107   6.416096e+09   304746529          0.000003   \n",
       "16      AA    05   7822480   6.416096e+09   304746529          0.000003   \n",
       "\n",
       "   carrier_month  \n",
       "12          AA01  \n",
       "13          AA02  \n",
       "14          AA03  \n",
       "15          AA04  \n",
       "16          AA05  "
      ]
     },
     "execution_count": 55,
     "metadata": {},
     "output_type": "execute_result"
    }
   ],
   "source": [
    "h5['carrier_month'] = h5.carrier + h5.month.astype(str)\n",
    "h5.head()"
   ]
  },
  {
   "cell_type": "code",
   "execution_count": 56,
   "metadata": {
    "colab": {
     "base_uri": "https://localhost:8080/",
     "height": 206
    },
    "colab_type": "code",
    "executionInfo": {
     "elapsed": 882,
     "status": "ok",
     "timestamp": 1598241229806,
     "user": {
      "displayName": "Jon Durand",
      "photoUrl": "",
      "userId": "11073466191630386305"
     },
     "user_tz": 300
    },
    "id": "0WNMXo-wJVyU",
    "outputId": "a179f71e-8605-4d95-9e1a-bc70f96dfffe",
    "slideshow": {
     "slide_type": "skip"
    }
   },
   "outputs": [
    {
     "data": {
      "text/html": [
       "<div>\n",
       "<style scoped>\n",
       "    .dataframe tbody tr th:only-of-type {\n",
       "        vertical-align: middle;\n",
       "    }\n",
       "\n",
       "    .dataframe tbody tr th {\n",
       "        vertical-align: top;\n",
       "    }\n",
       "\n",
       "    .dataframe thead th {\n",
       "        text-align: right;\n",
       "    }\n",
       "</style>\n",
       "<table border=\"1\" class=\"dataframe\">\n",
       "  <thead>\n",
       "    <tr style=\"text-align: right;\">\n",
       "      <th></th>\n",
       "      <th>carrier</th>\n",
       "      <th>month</th>\n",
       "      <th>delay</th>\n",
       "      <th>carrier_month</th>\n",
       "    </tr>\n",
       "  </thead>\n",
       "  <tbody>\n",
       "    <tr>\n",
       "      <th>0</th>\n",
       "      <td>9E</td>\n",
       "      <td>01</td>\n",
       "      <td>3.219540</td>\n",
       "      <td>9E01</td>\n",
       "    </tr>\n",
       "    <tr>\n",
       "      <th>1</th>\n",
       "      <td>9E</td>\n",
       "      <td>02</td>\n",
       "      <td>6.422414</td>\n",
       "      <td>9E02</td>\n",
       "    </tr>\n",
       "    <tr>\n",
       "      <th>2</th>\n",
       "      <td>9E</td>\n",
       "      <td>03</td>\n",
       "      <td>3.366265</td>\n",
       "      <td>9E03</td>\n",
       "    </tr>\n",
       "    <tr>\n",
       "      <th>3</th>\n",
       "      <td>9E</td>\n",
       "      <td>04</td>\n",
       "      <td>7.745499</td>\n",
       "      <td>9E04</td>\n",
       "    </tr>\n",
       "    <tr>\n",
       "      <th>4</th>\n",
       "      <td>9E</td>\n",
       "      <td>05</td>\n",
       "      <td>0.199005</td>\n",
       "      <td>9E05</td>\n",
       "    </tr>\n",
       "  </tbody>\n",
       "</table>\n",
       "</div>"
      ],
      "text/plain": [
       "  carrier month     delay carrier_month\n",
       "0      9E    01  3.219540          9E01\n",
       "1      9E    02  6.422414          9E02\n",
       "2      9E    03  3.366265          9E03\n",
       "3      9E    04  7.745499          9E04\n",
       "4      9E    05  0.199005          9E05"
      ]
     },
     "execution_count": 56,
     "metadata": {},
     "output_type": "execute_result"
    }
   ],
   "source": [
    "h6 = air_carrier_delay.reset_index()\n",
    "h6['carrier_month'] = h6.carrier + h6.month.astype(str)\n",
    "h6.head()"
   ]
  },
  {
   "cell_type": "code",
   "execution_count": 57,
   "metadata": {
    "colab": {
     "base_uri": "https://localhost:8080/",
     "height": 206
    },
    "colab_type": "code",
    "executionInfo": {
     "elapsed": 611,
     "status": "ok",
     "timestamp": 1598241232960,
     "user": {
      "displayName": "Jon Durand",
      "photoUrl": "",
      "userId": "11073466191630386305"
     },
     "user_tz": 300
    },
    "id": "HaXNY4ezJjmm",
    "outputId": "965dd91b-fa8d-41ce-aee8-fdc22034e123",
    "slideshow": {
     "slide_type": "skip"
    }
   },
   "outputs": [
    {
     "data": {
      "text/html": [
       "<div>\n",
       "<style scoped>\n",
       "    .dataframe tbody tr th:only-of-type {\n",
       "        vertical-align: middle;\n",
       "    }\n",
       "\n",
       "    .dataframe tbody tr th {\n",
       "        vertical-align: top;\n",
       "    }\n",
       "\n",
       "    .dataframe thead th {\n",
       "        text-align: right;\n",
       "    }\n",
       "</style>\n",
       "<table border=\"1\" class=\"dataframe\">\n",
       "  <thead>\n",
       "    <tr style=\"text-align: right;\">\n",
       "      <th></th>\n",
       "      <th>carrier_x</th>\n",
       "      <th>month_x</th>\n",
       "      <th>delay</th>\n",
       "      <th>carrier_month</th>\n",
       "      <th>carrier_y</th>\n",
       "      <th>month_y</th>\n",
       "      <th>distance</th>\n",
       "      <th>total_gallons</th>\n",
       "      <th>passengers</th>\n",
       "      <th>avg_gall_pass_km</th>\n",
       "    </tr>\n",
       "  </thead>\n",
       "  <tbody>\n",
       "    <tr>\n",
       "      <th>17</th>\n",
       "      <td>AA</td>\n",
       "      <td>01</td>\n",
       "      <td>2.211213</td>\n",
       "      <td>AA01</td>\n",
       "      <td>AA</td>\n",
       "      <td>01</td>\n",
       "      <td>7643305.0</td>\n",
       "      <td>6.416096e+09</td>\n",
       "      <td>304746529.0</td>\n",
       "      <td>0.000003</td>\n",
       "    </tr>\n",
       "    <tr>\n",
       "      <th>18</th>\n",
       "      <td>AA</td>\n",
       "      <td>02</td>\n",
       "      <td>3.980982</td>\n",
       "      <td>AA02</td>\n",
       "      <td>AA</td>\n",
       "      <td>02</td>\n",
       "      <td>6884494.0</td>\n",
       "      <td>6.416096e+09</td>\n",
       "      <td>304746529.0</td>\n",
       "      <td>0.000003</td>\n",
       "    </tr>\n",
       "    <tr>\n",
       "      <th>19</th>\n",
       "      <td>AA</td>\n",
       "      <td>03</td>\n",
       "      <td>2.336552</td>\n",
       "      <td>AA03</td>\n",
       "      <td>AA</td>\n",
       "      <td>03</td>\n",
       "      <td>7981398.0</td>\n",
       "      <td>6.416096e+09</td>\n",
       "      <td>304746529.0</td>\n",
       "      <td>0.000003</td>\n",
       "    </tr>\n",
       "    <tr>\n",
       "      <th>20</th>\n",
       "      <td>AA</td>\n",
       "      <td>04</td>\n",
       "      <td>3.859750</td>\n",
       "      <td>AA04</td>\n",
       "      <td>AA</td>\n",
       "      <td>04</td>\n",
       "      <td>7397107.0</td>\n",
       "      <td>6.416096e+09</td>\n",
       "      <td>304746529.0</td>\n",
       "      <td>0.000003</td>\n",
       "    </tr>\n",
       "    <tr>\n",
       "      <th>21</th>\n",
       "      <td>AA</td>\n",
       "      <td>05</td>\n",
       "      <td>9.435716</td>\n",
       "      <td>AA05</td>\n",
       "      <td>AA</td>\n",
       "      <td>05</td>\n",
       "      <td>7822480.0</td>\n",
       "      <td>6.416096e+09</td>\n",
       "      <td>304746529.0</td>\n",
       "      <td>0.000003</td>\n",
       "    </tr>\n",
       "  </tbody>\n",
       "</table>\n",
       "</div>"
      ],
      "text/plain": [
       "   carrier_x month_x     delay carrier_month carrier_y month_y   distance  \\\n",
       "17        AA      01  2.211213          AA01        AA      01  7643305.0   \n",
       "18        AA      02  3.980982          AA02        AA      02  6884494.0   \n",
       "19        AA      03  2.336552          AA03        AA      03  7981398.0   \n",
       "20        AA      04  3.859750          AA04        AA      04  7397107.0   \n",
       "21        AA      05  9.435716          AA05        AA      05  7822480.0   \n",
       "\n",
       "    total_gallons   passengers  avg_gall_pass_km  \n",
       "17   6.416096e+09  304746529.0          0.000003  \n",
       "18   6.416096e+09  304746529.0          0.000003  \n",
       "19   6.416096e+09  304746529.0          0.000003  \n",
       "20   6.416096e+09  304746529.0          0.000003  \n",
       "21   6.416096e+09  304746529.0          0.000003  "
      ]
     },
     "execution_count": 57,
     "metadata": {},
     "output_type": "execute_result"
    }
   ],
   "source": [
    "h7 = h6.merge(h5,how='left',on='carrier_month').dropna()\n",
    "h7.head()"
   ]
  },
  {
   "cell_type": "code",
   "execution_count": 58,
   "metadata": {
    "colab": {
     "base_uri": "https://localhost:8080/",
     "height": 206
    },
    "colab_type": "code",
    "executionInfo": {
     "elapsed": 536,
     "status": "ok",
     "timestamp": 1598245575465,
     "user": {
      "displayName": "Jon Durand",
      "photoUrl": "",
      "userId": "11073466191630386305"
     },
     "user_tz": 300
    },
    "id": "vxts7y8fUfiU",
    "outputId": "491e20b1-ee4f-45be-8aa9-ea933fdda46f",
    "slideshow": {
     "slide_type": "skip"
    }
   },
   "outputs": [
    {
     "data": {
      "text/html": [
       "<div>\n",
       "<style scoped>\n",
       "    .dataframe tbody tr th:only-of-type {\n",
       "        vertical-align: middle;\n",
       "    }\n",
       "\n",
       "    .dataframe tbody tr th {\n",
       "        vertical-align: top;\n",
       "    }\n",
       "\n",
       "    .dataframe thead th {\n",
       "        text-align: right;\n",
       "    }\n",
       "</style>\n",
       "<table border=\"1\" class=\"dataframe\">\n",
       "  <thead>\n",
       "    <tr style=\"text-align: right;\">\n",
       "      <th></th>\n",
       "      <th>carrier_x</th>\n",
       "      <th>month_x</th>\n",
       "      <th>delay</th>\n",
       "      <th>avg_gall_pass_km</th>\n",
       "    </tr>\n",
       "  </thead>\n",
       "  <tbody>\n",
       "    <tr>\n",
       "      <th>17</th>\n",
       "      <td>AA</td>\n",
       "      <td>01</td>\n",
       "      <td>2.211213</td>\n",
       "      <td>0.000003</td>\n",
       "    </tr>\n",
       "    <tr>\n",
       "      <th>18</th>\n",
       "      <td>AA</td>\n",
       "      <td>02</td>\n",
       "      <td>3.980982</td>\n",
       "      <td>0.000003</td>\n",
       "    </tr>\n",
       "    <tr>\n",
       "      <th>19</th>\n",
       "      <td>AA</td>\n",
       "      <td>03</td>\n",
       "      <td>2.336552</td>\n",
       "      <td>0.000003</td>\n",
       "    </tr>\n",
       "    <tr>\n",
       "      <th>20</th>\n",
       "      <td>AA</td>\n",
       "      <td>04</td>\n",
       "      <td>3.859750</td>\n",
       "      <td>0.000003</td>\n",
       "    </tr>\n",
       "    <tr>\n",
       "      <th>21</th>\n",
       "      <td>AA</td>\n",
       "      <td>05</td>\n",
       "      <td>9.435716</td>\n",
       "      <td>0.000003</td>\n",
       "    </tr>\n",
       "  </tbody>\n",
       "</table>\n",
       "</div>"
      ],
      "text/plain": [
       "   carrier_x month_x     delay  avg_gall_pass_km\n",
       "17        AA      01  2.211213          0.000003\n",
       "18        AA      02  3.980982          0.000003\n",
       "19        AA      03  2.336552          0.000003\n",
       "20        AA      04  3.859750          0.000003\n",
       "21        AA      05  9.435716          0.000003"
      ]
     },
     "execution_count": 58,
     "metadata": {},
     "output_type": "execute_result"
    }
   ],
   "source": [
    "h8 = h7[['carrier_x','month_x','delay','avg_gall_pass_km']]\n",
    "h8.head()"
   ]
  },
  {
   "cell_type": "code",
   "execution_count": 59,
   "metadata": {
    "colab": {
     "base_uri": "https://localhost:8080/",
     "height": 369
    },
    "colab_type": "code",
    "executionInfo": {
     "elapsed": 1602,
     "status": "ok",
     "timestamp": 1598245605269,
     "user": {
      "displayName": "Jon Durand",
      "photoUrl": "",
      "userId": "11073466191630386305"
     },
     "user_tz": 300
    },
    "id": "8_cDHBjf2ghW",
    "outputId": "b300a9f5-0de2-4f45-ca9e-e7876685948b",
    "slideshow": {
     "slide_type": "skip"
    }
   },
   "outputs": [
    {
     "data": {
      "image/png": "[encoded data removed]",
      "text/plain": [
       "<Figure size 413.375x360 with 1 Axes>"
      ]
     },
     "metadata": {
      "needs_background": "light"
     },
     "output_type": "display_data"
    }
   ],
   "source": [
    "g = sns.catplot(x=\"month_x\",y=\"delay\",kind='bar',hue='carrier_x',order=['01', '02', '03', '04', '05', '06', '07', '08', '09', '10', '11',\n",
    "       '12'],ci=False,data=h8)"
   ]
  },
  {
   "cell_type": "code",
   "execution_count": 60,
   "metadata": {
    "colab": {
     "base_uri": "https://localhost:8080/",
     "height": 291
    },
    "colab_type": "code",
    "executionInfo": {
     "elapsed": 914,
     "status": "ok",
     "timestamp": 1598243110229,
     "user": {
      "displayName": "Jon Durand",
      "photoUrl": "",
      "userId": "11073466191630386305"
     },
     "user_tz": 300
    },
    "id": "tRh59aaRWYt3",
    "outputId": "3c49cf60-d3a3-4985-899e-481200d7cda1",
    "slideshow": {
     "slide_type": "slide"
    }
   },
   "outputs": [
    {
     "data": {
      "image/png": "[encoded data removed]",
      "text/plain": [
       "<Figure size 432x288 with 1 Axes>"
      ]
     },
     "metadata": {
      "needs_background": "light"
     },
     "output_type": "display_data"
    }
   ],
   "source": [
    "ax2 = sns.barplot(data = h8, x='carrier_x',y='avg_gall_pass_km')"
   ]
  },
  {
   "cell_type": "code",
   "execution_count": 61,
   "metadata": {
    "colab": {
     "base_uri": "https://localhost:8080/",
     "height": 280
    },
    "colab_type": "code",
    "executionInfo": {
     "elapsed": 1179,
     "status": "ok",
     "timestamp": 1598245369930,
     "user": {
      "displayName": "Jon Durand",
      "photoUrl": "",
      "userId": "11073466191630386305"
     },
     "user_tz": 300
    },
    "id": "AkgjkxSo2N1c",
    "outputId": "1bcd2c0b-7f5a-4544-8c1d-73f3b0c2da19",
    "slideshow": {
     "slide_type": "slide"
    }
   },
   "outputs": [
    {
     "data": {
      "image/png": "[encoded data removed]",
      "text/plain": [
       "<Figure size 432x288 with 1 Axes>"
      ]
     },
     "metadata": {
      "needs_background": "light"
     },
     "output_type": "display_data"
    }
   ],
   "source": [
    "ax = sns.barplot(data = h8, x='carrier_x',y='delay')"
   ]
  },
  {
   "cell_type": "code",
   "execution_count": 62,
   "metadata": {
    "colab": {
     "base_uri": "https://localhost:8080/",
     "height": 369
    },
    "colab_type": "code",
    "executionInfo": {
     "elapsed": 1362,
     "status": "ok",
     "timestamp": 1598244878321,
     "user": {
      "displayName": "Jon Durand",
      "photoUrl": "",
      "userId": "11073466191630386305"
     },
     "user_tz": 300
    },
    "id": "nkYc98tjUqfG",
    "outputId": "ef70057d-d25f-4eca-be00-1f37a772e913",
    "slideshow": {
     "slide_type": "slide"
    }
   },
   "outputs": [
    {
     "data": {
      "image/png": "[encoded data removed]",
      "text/plain": [
       "<Figure size 439.75x360 with 1 Axes>"
      ]
     },
     "metadata": {
      "needs_background": "light"
     },
     "output_type": "display_data"
    }
   ],
   "source": [
    "g = sns.relplot(x=\"avg_gall_pass_km\",y=\"delay\",hue='carrier_x',kind='scatter',data=h8)"
   ]
  },
  {
   "cell_type": "code",
   "execution_count": 63,
   "metadata": {
    "colab": {},
    "colab_type": "code",
    "id": "cmGeNh17VuQu",
    "slideshow": {
     "slide_type": "skip"
    }
   },
   "outputs": [],
   "source": [
    "# g = sns.relplot(x=\"avg_gall_pass_km\",y=\"delay\",col='carrier_x',kind='scatter',data=h8, col_wrap=True)"
   ]
  },
  {
   "cell_type": "code",
   "execution_count": 64,
   "metadata": {
    "colab": {
     "base_uri": "https://localhost:8080/",
     "height": 34
    },
    "colab_type": "code",
    "executionInfo": {
     "elapsed": 653,
     "status": "ok",
     "timestamp": 1598288473857,
     "user": {
      "displayName": "Jon Durand",
      "photoUrl": "",
      "userId": "11073466191630386305"
     },
     "user_tz": 300
    },
    "id": "03ylle-W0rX2",
    "outputId": "27c12cda-91f0-44a0-985e-e9c53c777b1e",
    "slideshow": {
     "slide_type": "skip"
    }
   },
   "outputs": [
    {
     "data": {
      "text/plain": [
       "(796370, 45)"
      ]
     },
     "execution_count": 64,
     "metadata": {},
     "output_type": "execute_result"
    }
   ],
   "source": [
    "flights.shape"
   ]
  },
  {
   "cell_type": "markdown",
   "metadata": {
    "colab": {},
    "colab_type": "code",
    "id": "iIptYsR2aqpk"
   },
   "source": [
    "# End EDA"
   ]
  }
 ],
 "metadata": {
  "accelerator": "GPU",
  "celltoolbar": "Slideshow",
  "colab": {
   "collapsed_sections": [],
   "name": "Midterm Part 1 - Explore.ipynb",
   "provenance": []
  },
  "kernelspec": {
   "display_name": "Python 3",
   "language": "python",
   "name": "python3"
  },
  "language_info": {
   "codemirror_mode": {
    "name": "ipython",
    "version": 3
   },
   "file_extension": ".py",
   "mimetype": "text/x-python",
   "name": "python",
   "nbconvert_exporter": "python",
   "pygments_lexer": "ipython3",
   "version": "3.8.3"
  }
 },
 "nbformat": 4,
 "nbformat_minor": 1
}
